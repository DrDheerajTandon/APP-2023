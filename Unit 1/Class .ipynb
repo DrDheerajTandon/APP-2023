{
 "cells": [
  {
   "cell_type": "code",
   "execution_count": 1,
   "metadata": {},
   "outputs": [
    {
     "name": "stdout",
     "output_type": "stream",
     "text": [
      "<__main__.Test object at 0x00000285E3D23130>\n"
     ]
    }
   ],
   "source": [
    "class Test:\n",
    "    pass\n",
    "\n",
    "T = Test()\n",
    "print(T)"
   ]
  },
  {
   "cell_type": "code",
   "execution_count": 3,
   "metadata": {},
   "outputs": [
    {
     "ename": "TypeError",
     "evalue": "display() takes 0 positional arguments but 1 was given",
     "output_type": "error",
     "traceback": [
      "\u001b[1;31m---------------------------------------------------------------------------\u001b[0m",
      "\u001b[1;31mTypeError\u001b[0m                                 Traceback (most recent call last)",
      "\u001b[1;32m<ipython-input-3-5fc4fd101d1d>\u001b[0m in \u001b[0;36m<module>\u001b[1;34m\u001b[0m\n\u001b[0;32m      6\u001b[0m \u001b[1;33m\u001b[0m\u001b[0m\n\u001b[0;32m      7\u001b[0m \u001b[0mE\u001b[0m \u001b[1;33m=\u001b[0m \u001b[0mExample\u001b[0m\u001b[1;33m(\u001b[0m\u001b[1;33m)\u001b[0m\u001b[1;33m\u001b[0m\u001b[1;33m\u001b[0m\u001b[0m\n\u001b[1;32m----> 8\u001b[1;33m \u001b[0mE\u001b[0m\u001b[1;33m.\u001b[0m\u001b[0mdisplay\u001b[0m\u001b[1;33m(\u001b[0m\u001b[1;33m)\u001b[0m\u001b[1;33m\u001b[0m\u001b[1;33m\u001b[0m\u001b[0m\n\u001b[0m",
      "\u001b[1;31mTypeError\u001b[0m: display() takes 0 positional arguments but 1 was given"
     ]
    }
   ],
   "source": [
    "class Example:\n",
    "    r = 10\n",
    "    name = 'SRM'\n",
    "    def display():\n",
    "        print(\"OOPS\")\n",
    "        \n",
    "E = Example()\n",
    "E.display()"
   ]
  },
  {
   "cell_type": "code",
   "execution_count": 4,
   "metadata": {},
   "outputs": [
    {
     "name": "stdout",
     "output_type": "stream",
     "text": [
      "OOPS\n"
     ]
    }
   ],
   "source": [
    "class Example:\n",
    "    r = 10\n",
    "    name = 'SRM'\n",
    "    def display(self):\n",
    "        print(\"OOPS\")\n",
    "        \n",
    "E = Example()\n",
    "E.display()"
   ]
  },
  {
   "cell_type": "code",
   "execution_count": 5,
   "metadata": {},
   "outputs": [
    {
     "name": "stdout",
     "output_type": "stream",
     "text": [
      "OOPS\n",
      "10\n",
      "SRM\n"
     ]
    }
   ],
   "source": [
    "class Example:\n",
    "    r = 10\n",
    "    name = 'SRM'\n",
    "    def display(self):\n",
    "        print(\"OOPS\")\n",
    "        \n",
    "E = Example()\n",
    "E.display()\n",
    "print(E.r)\n",
    "print(E.name)"
   ]
  },
  {
   "cell_type": "code",
   "execution_count": 6,
   "metadata": {},
   "outputs": [
    {
     "name": "stdout",
     "output_type": "stream",
     "text": [
      "OOPS\n",
      "10\n",
      "SRM\n"
     ]
    }
   ],
   "source": [
    "class Example:\n",
    "    r = 10\n",
    "    name = 'SRM'\n",
    "    def display(self):\n",
    "        print(\"OOPS\")\n",
    "        \n",
    "E = Example()\n",
    "E.display()\n",
    "print(Example.r)\n",
    "print(Example.name)"
   ]
  },
  {
   "cell_type": "code",
   "execution_count": 8,
   "metadata": {},
   "outputs": [
    {
     "name": "stdout",
     "output_type": "stream",
     "text": [
      "Roll 10\n",
      "Name SRM\n"
     ]
    }
   ],
   "source": [
    "class Example:\n",
    "    r = 10\n",
    "    name = 'SRM'\n",
    "    def display(self):\n",
    "        print('Roll',self.r)\n",
    "        print('Name',self.name)\n",
    "        \n",
    "E = Example()\n",
    "E.display()"
   ]
  }
 ],
 "metadata": {
  "kernelspec": {
   "display_name": "Python 3",
   "language": "python",
   "name": "python3"
  },
  "language_info": {
   "codemirror_mode": {
    "name": "ipython",
    "version": 3
   },
   "file_extension": ".py",
   "mimetype": "text/x-python",
   "name": "python",
   "nbconvert_exporter": "python",
   "pygments_lexer": "ipython3",
   "version": "3.9.1"
  }
 },
 "nbformat": 4,
 "nbformat_minor": 4
}
