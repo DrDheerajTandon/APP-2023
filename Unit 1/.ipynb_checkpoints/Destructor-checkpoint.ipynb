{
 "cells": [
  {
   "cell_type": "code",
   "execution_count": 5,
   "metadata": {},
   "outputs": [
    {
     "name": "stdout",
     "output_type": "stream",
     "text": [
      "Constructor Called\n",
      "Roll Number:  1\n",
      "Name:  Sparsh\n",
      "Destructor Called\n"
     ]
    }
   ],
   "source": [
    "class Student:\n",
    "    def __init__(self,r,name):\n",
    "        print('Constructor Called')\n",
    "        self.r = r\n",
    "        self.name = name\n",
    "        \n",
    "    def display(self):\n",
    "            print(\"Roll Number: \",self.r)\n",
    "            print(\"Name: \",self.name)\n",
    "            \n",
    "    def __del__(self):\n",
    "            print(\"Destructor Called\")\n",
    "            \n",
    "S = Student(1,'Sparsh')\n",
    "S.display()\n",
    "del S\n"
   ]
  },
  {
   "cell_type": "code",
   "execution_count": null,
   "metadata": {},
   "outputs": [],
   "source": []
  }
 ],
 "metadata": {
  "kernelspec": {
   "display_name": "Python 3",
   "language": "python",
   "name": "python3"
  },
  "language_info": {
   "codemirror_mode": {
    "name": "ipython",
    "version": 3
   },
   "file_extension": ".py",
   "mimetype": "text/x-python",
   "name": "python",
   "nbconvert_exporter": "python",
   "pygments_lexer": "ipython3",
   "version": "3.9.1"
  }
 },
 "nbformat": 4,
 "nbformat_minor": 4
}
