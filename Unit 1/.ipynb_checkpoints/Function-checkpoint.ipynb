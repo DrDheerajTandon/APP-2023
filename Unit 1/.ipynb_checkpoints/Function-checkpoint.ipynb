{
 "cells": [
  {
   "cell_type": "markdown",
   "metadata": {},
   "source": [
    "# Function"
   ]
  },
  {
   "cell_type": "markdown",
   "metadata": {},
   "source": [
    "# Why we use function?"
   ]
  },
  {
   "cell_type": "markdown",
   "metadata": {},
   "source": [
    "**********\n",
    "Hello\n",
    "**********\n",
    "CS Students\n",
    "**********\n",
    "SRM\n",
    "**********"
   ]
  },
  {
   "cell_type": "code",
   "execution_count": 1,
   "metadata": {},
   "outputs": [
    {
     "name": "stdout",
     "output_type": "stream",
     "text": [
      "**********\n",
      "Hello\n",
      "**********\n",
      "CS Students\n",
      "**********\n",
      "SRM\n",
      "**********"
     ]
    }
   ],
   "source": [
    "for i in range(10):\n",
    "    print('*',end='')\n",
    "print('\\nHello')\n",
    "for i in range(10):\n",
    "    print('*',end='')\n",
    "print('\\nCS Students')\n",
    "for i in range(10):\n",
    "    print('*',end='')\n",
    "print('\\nSRM')\n",
    "for i in range(10):\n",
    "    print('*',end='')"
   ]
  },
  {
   "cell_type": "code",
   "execution_count": 2,
   "metadata": {},
   "outputs": [
    {
     "name": "stdout",
     "output_type": "stream",
     "text": [
      "Example\n"
     ]
    }
   ],
   "source": [
    "def example():\n",
    "    print('Example')\n",
    "    \n",
    "example()"
   ]
  },
  {
   "cell_type": "code",
   "execution_count": 3,
   "metadata": {},
   "outputs": [],
   "source": [
    "def lineofstar():\n",
    "    for i in range(10):\n",
    "        print('*',end='')"
   ]
  },
  {
   "cell_type": "code",
   "execution_count": 4,
   "metadata": {},
   "outputs": [
    {
     "name": "stdout",
     "output_type": "stream",
     "text": [
      "**********\n",
      "Hello\n",
      "**********\n",
      "CS Students\n",
      "**********\n",
      "SRM\n",
      "**********"
     ]
    }
   ],
   "source": [
    "lineofstar()\n",
    "print('\\nHello')\n",
    "lineofstar()\n",
    "print('\\nCS Students')\n",
    "lineofstar()\n",
    "print('\\nSRM')\n",
    "lineofstar()"
   ]
  },
  {
   "cell_type": "code",
   "execution_count": null,
   "metadata": {},
   "outputs": [],
   "source": []
  },
  {
   "cell_type": "code",
   "execution_count": null,
   "metadata": {},
   "outputs": [],
   "source": []
  },
  {
   "cell_type": "code",
   "execution_count": null,
   "metadata": {},
   "outputs": [],
   "source": []
  }
 ],
 "metadata": {
  "kernelspec": {
   "display_name": "Python 3",
   "language": "python",
   "name": "python3"
  },
  "language_info": {
   "codemirror_mode": {
    "name": "ipython",
    "version": 3
   },
   "file_extension": ".py",
   "mimetype": "text/x-python",
   "name": "python",
   "nbconvert_exporter": "python",
   "pygments_lexer": "ipython3",
   "version": "3.9.1"
  }
 },
 "nbformat": 4,
 "nbformat_minor": 4
}
