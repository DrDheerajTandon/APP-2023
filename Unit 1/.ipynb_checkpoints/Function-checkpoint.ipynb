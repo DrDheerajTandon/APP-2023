{
 "cells": [
  {
   "cell_type": "markdown",
   "metadata": {},
   "source": [
    "# Function"
   ]
  },
  {
   "cell_type": "markdown",
   "metadata": {},
   "source": [
    "# Why we use function?"
   ]
  },
  {
   "cell_type": "markdown",
   "metadata": {},
   "source": [
    "**********\n",
    "Hello\n",
    "**********\n",
    "CS Students\n",
    "**********\n",
    "SRM\n",
    "**********"
   ]
  },
  {
   "cell_type": "code",
   "execution_count": 1,
   "metadata": {},
   "outputs": [
    {
     "name": "stdout",
     "output_type": "stream",
     "text": [
      "**********\n",
      "Hello\n",
      "**********\n",
      "CS Students\n",
      "**********\n",
      "SRM\n",
      "**********"
     ]
    }
   ],
   "source": [
    "for i in range(10):\n",
    "    print('*',end='')\n",
    "print('\\nHello')\n",
    "for i in range(10):\n",
    "    print('*',end='')\n",
    "print('\\nCS Students')\n",
    "for i in range(10):\n",
    "    print('*',end='')\n",
    "print('\\nSRM')\n",
    "for i in range(10):\n",
    "    print('*',end='')"
   ]
  },
  {
   "cell_type": "code",
   "execution_count": 2,
   "metadata": {},
   "outputs": [
    {
     "name": "stdout",
     "output_type": "stream",
     "text": [
      "Example\n"
     ]
    }
   ],
   "source": [
    "def example():\n",
    "    print('Example')\n",
    "    \n",
    "example()"
   ]
  },
  {
   "cell_type": "code",
   "execution_count": 3,
   "metadata": {},
   "outputs": [],
   "source": [
    "def lineofstar():\n",
    "    for i in range(10):\n",
    "        print('*',end='')"
   ]
  },
  {
   "cell_type": "code",
   "execution_count": 4,
   "metadata": {},
   "outputs": [
    {
     "name": "stdout",
     "output_type": "stream",
     "text": [
      "**********\n",
      "Hello\n",
      "**********\n",
      "CS Students\n",
      "**********\n",
      "SRM\n",
      "**********"
     ]
    }
   ],
   "source": [
    "lineofstar()\n",
    "print('\\nHello')\n",
    "lineofstar()\n",
    "print('\\nCS Students')\n",
    "lineofstar()\n",
    "print('\\nSRM')\n",
    "lineofstar()"
   ]
  },
  {
   "cell_type": "code",
   "execution_count": null,
   "metadata": {},
   "outputs": [],
   "source": []
  },
  {
   "cell_type": "code",
   "execution_count": 1,
   "metadata": {},
   "outputs": [
    {
     "name": "stdout",
     "output_type": "stream",
     "text": [
      "Enter the first number: 3\n",
      "Enter the second number: 4\n",
      "The sum is 7\n"
     ]
    }
   ],
   "source": [
    "def add():\n",
    "    '''Addition Program'''\n",
    "    a = int(input('Enter the first number: '))\n",
    "    b = int(input('Enter the second number: '))\n",
    "    s = a+b\n",
    "    print('The sum is',s)\n",
    "\n",
    "add()"
   ]
  },
  {
   "cell_type": "code",
   "execution_count": 5,
   "metadata": {},
   "outputs": [
    {
     "name": "stdout",
     "output_type": "stream",
     "text": [
      "Enter the first number: 12\n",
      "Enter the second Number: 2\n",
      "The sum is 14\n"
     ]
    }
   ],
   "source": [
    "def add(x,y):\n",
    "    '''Addition Program'''\n",
    "    s = x+y\n",
    "    print('The sum is',s)\n",
    "    \n",
    "# function calling\n",
    "a = int(input('Enter the first number: '))\n",
    "b = int(input('Enter the second Number: '))\n",
    "add(a,b)"
   ]
  },
  {
   "cell_type": "code",
   "execution_count": 3,
   "metadata": {},
   "outputs": [
    {
     "name": "stdout",
     "output_type": "stream",
     "text": [
      "Enter the first number: 4\n",
      "Enter the second Number: 3\n",
      "The sum is 7\n"
     ]
    }
   ],
   "source": [
    "def add(x,y):\n",
    "    '''Addition Program'''\n",
    "    s = x+y\n",
    "    return s\n",
    "    \n",
    "# function calling\n",
    "a = int(input('Enter the first number: '))\n",
    "b = int(input('Enter the second Number: '))\n",
    "res = add(a,b)\n",
    "print('The sum is',res)"
   ]
  },
  {
   "cell_type": "code",
   "execution_count": 6,
   "metadata": {},
   "outputs": [
    {
     "name": "stdout",
     "output_type": "stream",
     "text": [
      "Enter the first number: 7\n",
      "Enter the second Number: 8\n"
     ]
    },
    {
     "data": {
      "text/plain": [
       "15"
      ]
     },
     "execution_count": 6,
     "metadata": {},
     "output_type": "execute_result"
    }
   ],
   "source": [
    "def add(x,y):\n",
    "    '''Addition Program'''\n",
    "    s = x+y\n",
    "    return s\n",
    "    \n",
    "# function calling\n",
    "a = int(input('Enter the first number: '))\n",
    "b = int(input('Enter the second Number: '))\n",
    "add(a,b)"
   ]
  },
  {
   "cell_type": "markdown",
   "metadata": {},
   "source": [
    "# Required Arguments"
   ]
  },
  {
   "cell_type": "code",
   "execution_count": 7,
   "metadata": {},
   "outputs": [
    {
     "data": {
      "text/plain": [
       "30"
      ]
     },
     "execution_count": 7,
     "metadata": {},
     "output_type": "execute_result"
    }
   ],
   "source": [
    "def add(x,y):\n",
    "    '''Addition Program'''\n",
    "    s = x+y\n",
    "    return s\n",
    "    \n",
    "\n",
    "add(10,20)"
   ]
  },
  {
   "cell_type": "markdown",
   "metadata": {},
   "source": [
    "# Keyword Arguments"
   ]
  },
  {
   "cell_type": "code",
   "execution_count": 9,
   "metadata": {},
   "outputs": [
    {
     "data": {
      "text/plain": [
       "30"
      ]
     },
     "execution_count": 9,
     "metadata": {},
     "output_type": "execute_result"
    }
   ],
   "source": [
    "def add(x,y):\n",
    "    '''Addition Program'''\n",
    "    s = x+y\n",
    "    return s\n",
    "    \n",
    "add(x=10,y=20)"
   ]
  },
  {
   "cell_type": "markdown",
   "metadata": {},
   "source": [
    "# Default Arguments"
   ]
  },
  {
   "cell_type": "code",
   "execution_count": 10,
   "metadata": {},
   "outputs": [
    {
     "data": {
      "text/plain": [
       "30"
      ]
     },
     "execution_count": 10,
     "metadata": {},
     "output_type": "execute_result"
    }
   ],
   "source": [
    "def add(x,y=20):\n",
    "    '''Addition Program'''\n",
    "    s = x+y\n",
    "    return s\n",
    "    \n",
    "add(x=10)"
   ]
  },
  {
   "cell_type": "code",
   "execution_count": 11,
   "metadata": {},
   "outputs": [
    {
     "data": {
      "text/plain": [
       "60"
      ]
     },
     "execution_count": 11,
     "metadata": {},
     "output_type": "execute_result"
    }
   ],
   "source": [
    "def add(x,y=20):\n",
    "    '''Addition Program'''\n",
    "    s = x+y\n",
    "    return s\n",
    "    \n",
    "add(x=10,y=50)"
   ]
  },
  {
   "cell_type": "markdown",
   "metadata": {},
   "source": [
    "# Variable length arguments"
   ]
  },
  {
   "cell_type": "code",
   "execution_count": 12,
   "metadata": {},
   "outputs": [
    {
     "data": {
      "text/plain": [
       "30"
      ]
     },
     "execution_count": 12,
     "metadata": {},
     "output_type": "execute_result"
    }
   ],
   "source": [
    "def add(x,y):\n",
    "    '''Addition Program'''\n",
    "    s = x+y\n",
    "    return s\n",
    "    \n",
    "add(10,20)"
   ]
  },
  {
   "cell_type": "code",
   "execution_count": 13,
   "metadata": {},
   "outputs": [
    {
     "ename": "TypeError",
     "evalue": "add() takes 2 positional arguments but 3 were given",
     "output_type": "error",
     "traceback": [
      "\u001b[1;31m---------------------------------------------------------------------------\u001b[0m",
      "\u001b[1;31mTypeError\u001b[0m                                 Traceback (most recent call last)",
      "\u001b[1;32m<ipython-input-13-e788897b239a>\u001b[0m in \u001b[0;36m<module>\u001b[1;34m\u001b[0m\n\u001b[0;32m      4\u001b[0m     \u001b[1;32mreturn\u001b[0m \u001b[0ms\u001b[0m\u001b[1;33m\u001b[0m\u001b[1;33m\u001b[0m\u001b[0m\n\u001b[0;32m      5\u001b[0m \u001b[1;33m\u001b[0m\u001b[0m\n\u001b[1;32m----> 6\u001b[1;33m \u001b[0madd\u001b[0m\u001b[1;33m(\u001b[0m\u001b[1;36m10\u001b[0m\u001b[1;33m,\u001b[0m\u001b[1;36m20\u001b[0m\u001b[1;33m,\u001b[0m\u001b[1;36m30\u001b[0m\u001b[1;33m)\u001b[0m\u001b[1;33m\u001b[0m\u001b[1;33m\u001b[0m\u001b[0m\n\u001b[0m",
      "\u001b[1;31mTypeError\u001b[0m: add() takes 2 positional arguments but 3 were given"
     ]
    }
   ],
   "source": [
    "def add(x,y):\n",
    "    '''Addition Program'''\n",
    "    s = x+y\n",
    "    return s\n",
    "    \n",
    "add(10,20,30)"
   ]
  },
  {
   "cell_type": "code",
   "execution_count": 14,
   "metadata": {},
   "outputs": [
    {
     "data": {
      "text/plain": [
       "60"
      ]
     },
     "execution_count": 14,
     "metadata": {},
     "output_type": "execute_result"
    }
   ],
   "source": [
    "def add(x,y,*n):\n",
    "    '''Addition Program'''\n",
    "    s = n[0]+x+y\n",
    "    return s\n",
    "    \n",
    "add(10,20,30)"
   ]
  },
  {
   "cell_type": "code",
   "execution_count": 15,
   "metadata": {},
   "outputs": [
    {
     "data": {
      "text/plain": [
       "46"
      ]
     },
     "execution_count": 15,
     "metadata": {},
     "output_type": "execute_result"
    }
   ],
   "source": [
    "def example(*n):\n",
    "    s = n[0]+n[1]+n[2]+n[3]\n",
    "    return s\n",
    "\n",
    "example(12,13,11,10)"
   ]
  },
  {
   "cell_type": "code",
   "execution_count": 17,
   "metadata": {},
   "outputs": [
    {
     "name": "stdout",
     "output_type": "stream",
     "text": [
      "12 13 11 10 "
     ]
    }
   ],
   "source": [
    "def example(*n):\n",
    "    for i in n:\n",
    "        print(i,end=' ')\n",
    "\n",
    "example(12,13,11,10)"
   ]
  },
  {
   "cell_type": "code",
   "execution_count": 18,
   "metadata": {},
   "outputs": [
    {
     "data": {
      "text/plain": [
       "46"
      ]
     },
     "execution_count": 18,
     "metadata": {},
     "output_type": "execute_result"
    }
   ],
   "source": [
    "def example(a,*n):\n",
    "    s = a+n[0]+n[1]+n[2]\n",
    "    return s\n",
    "\n",
    "example(12,13,11,10)"
   ]
  },
  {
   "cell_type": "code",
   "execution_count": 19,
   "metadata": {},
   "outputs": [
    {
     "data": {
      "text/plain": [
       "46"
      ]
     },
     "execution_count": 19,
     "metadata": {},
     "output_type": "execute_result"
    }
   ],
   "source": [
    "def example(a,b,*n):\n",
    "    s = a+b+n[0]+n[1]\n",
    "    return s\n",
    "\n",
    "example(12,13,11,10)"
   ]
  },
  {
   "cell_type": "code",
   "execution_count": 20,
   "metadata": {},
   "outputs": [
    {
     "data": {
      "text/plain": [
       "20.0"
      ]
     },
     "execution_count": 20,
     "metadata": {},
     "output_type": "execute_result"
    }
   ],
   "source": [
    "def average(a,b,c):\n",
    "    avg = (a+b+c)/3\n",
    "    return avg\n",
    "\n",
    "average(10,20,30)"
   ]
  },
  {
   "cell_type": "code",
   "execution_count": 21,
   "metadata": {},
   "outputs": [
    {
     "data": {
      "text/plain": [
       "50.0"
      ]
     },
     "execution_count": 21,
     "metadata": {},
     "output_type": "execute_result"
    }
   ],
   "source": [
    "def average(*n):\n",
    "    avg = sum(n)/len(n)\n",
    "    return avg\n",
    "\n",
    "average(10,20,30,40,50,60,70,80,90)"
   ]
  },
  {
   "cell_type": "code",
   "execution_count": 27,
   "metadata": {},
   "outputs": [
    {
     "ename": "TypeError",
     "evalue": "student() got an unexpected keyword argument 'branch'",
     "output_type": "error",
     "traceback": [
      "\u001b[1;31m---------------------------------------------------------------------------\u001b[0m",
      "\u001b[1;31mTypeError\u001b[0m                                 Traceback (most recent call last)",
      "\u001b[1;32m<ipython-input-27-3e6dcff180b2>\u001b[0m in \u001b[0;36m<module>\u001b[1;34m\u001b[0m\n\u001b[0;32m      3\u001b[0m     \u001b[0mprint\u001b[0m\u001b[1;33m(\u001b[0m\u001b[0mdata\u001b[0m\u001b[1;33m)\u001b[0m\u001b[1;33m\u001b[0m\u001b[1;33m\u001b[0m\u001b[0m\n\u001b[0;32m      4\u001b[0m \u001b[1;33m\u001b[0m\u001b[0m\n\u001b[1;32m----> 5\u001b[1;33m \u001b[0mstudent\u001b[0m\u001b[1;33m(\u001b[0m\u001b[1;34m'Arvind'\u001b[0m\u001b[1;33m,\u001b[0m\u001b[0mbranch\u001b[0m\u001b[1;33m=\u001b[0m\u001b[1;34m'CS'\u001b[0m\u001b[1;33m,\u001b[0m\u001b[0mroll\u001b[0m\u001b[1;33m=\u001b[0m\u001b[1;36m1\u001b[0m\u001b[1;33m,\u001b[0m\u001b[0msection\u001b[0m\u001b[1;33m=\u001b[0m\u001b[1;34m'K'\u001b[0m\u001b[1;33m)\u001b[0m\u001b[1;33m\u001b[0m\u001b[1;33m\u001b[0m\u001b[0m\n\u001b[0m",
      "\u001b[1;31mTypeError\u001b[0m: student() got an unexpected keyword argument 'branch'"
     ]
    }
   ],
   "source": [
    "def student(name,*data):\n",
    "    print(name)\n",
    "    print(data)\n",
    "    \n",
    "student('Arvind',branch='CS',roll=1,section='K')"
   ]
  },
  {
   "cell_type": "code",
   "execution_count": 28,
   "metadata": {},
   "outputs": [
    {
     "name": "stdout",
     "output_type": "stream",
     "text": [
      "Arvind\n",
      "{'branch': 'CS', 'roll': 1, 'section': 'K'}\n"
     ]
    }
   ],
   "source": [
    "def student(name,**data):\n",
    "    print(name)\n",
    "    print(data)\n",
    "    \n",
    "student('Arvind',branch='CS',roll=1,section='K')"
   ]
  },
  {
   "cell_type": "markdown",
   "metadata": {},
   "source": [
    "# Write a Python function to calculate the square of a number."
   ]
  },
  {
   "cell_type": "code",
   "execution_count": 22,
   "metadata": {},
   "outputs": [
    {
     "name": "stdout",
     "output_type": "stream",
     "text": [
      "Enter the number: 3\n",
      "The square is 9\n"
     ]
    }
   ],
   "source": [
    "def square(n):\n",
    "    s = n*n\n",
    "    return s\n",
    "\n",
    "n1 = int(input('Enter the number: '))\n",
    "res= square(n1)\n",
    "print('The square is',res)"
   ]
  },
  {
   "cell_type": "markdown",
   "metadata": {},
   "source": [
    "# Write a Python function to calculate the area of circle."
   ]
  },
  {
   "cell_type": "markdown",
   "metadata": {},
   "source": [
    "# Write a Python function to find out the factorial of a given number."
   ]
  },
  {
   "cell_type": "code",
   "execution_count": 23,
   "metadata": {},
   "outputs": [
    {
     "name": "stdout",
     "output_type": "stream",
     "text": [
      "Enter the number: 5\n"
     ]
    },
    {
     "data": {
      "text/plain": [
       "120"
      ]
     },
     "execution_count": 23,
     "metadata": {},
     "output_type": "execute_result"
    }
   ],
   "source": [
    "def facto(n):\n",
    "    f = 1\n",
    "    for i in range(1,n+1):\n",
    "        f=f*i\n",
    "    return f\n",
    "\n",
    "n1 = int(input('Enter the number: '))\n",
    "facto(n1)"
   ]
  },
  {
   "cell_type": "markdown",
   "metadata": {},
   "source": [
    "# Write a Python function to check whether a number is in a given range."
   ]
  },
  {
   "cell_type": "code",
   "execution_count": 24,
   "metadata": {},
   "outputs": [
    {
     "name": "stdout",
     "output_type": "stream",
     "text": [
      "Enter the number: 3\n",
      "3 is range\n"
     ]
    }
   ],
   "source": [
    "def testrange(n):\n",
    "    if n in range(1,100):\n",
    "        print(n,'is range')\n",
    "    else:\n",
    "        print(n,'is not in range')\n",
    "n = int(input('Enter the number: '))        \n",
    "testrange(n)"
   ]
  },
  {
   "cell_type": "markdown",
   "metadata": {},
   "source": [
    "# Write a Python function to check whether the given number is prime or not."
   ]
  },
  {
   "cell_type": "markdown",
   "metadata": {},
   "source": [
    "# Write a Python function to calculate the sum of first N natural numbers."
   ]
  },
  {
   "cell_type": "code",
   "execution_count": 25,
   "metadata": {},
   "outputs": [
    {
     "name": "stdout",
     "output_type": "stream",
     "text": [
      "Enter the number: 3\n"
     ]
    },
    {
     "data": {
      "text/plain": [
       "6"
      ]
     },
     "execution_count": 25,
     "metadata": {},
     "output_type": "execute_result"
    }
   ],
   "source": [
    "def natural(n):\n",
    "    s = 0\n",
    "    for i in range(1,n+1):\n",
    "        s=s+i\n",
    "    return s\n",
    "\n",
    "n = int(input('Enter the number: '))\n",
    "natural(n)"
   ]
  },
  {
   "cell_type": "markdown",
   "metadata": {},
   "source": [
    "# Write a Python function to calculate the sum of digits of a 5 digits number."
   ]
  },
  {
   "cell_type": "markdown",
   "metadata": {},
   "source": [
    "# Write a Python function to reverse the 5 digits number."
   ]
  },
  {
   "cell_type": "code",
   "execution_count": null,
   "metadata": {},
   "outputs": [],
   "source": [
    "def reverse(n):\n",
    "    revnum = 0\n",
    "    while n>0:\n",
    "        a = n%10\n",
    "        revnum = revnum*10+a\n",
    "        n=n//10\n",
    "    return revnum\n",
    "n = int(input('Enter the number: '))\n",
    "reverse(n)"
   ]
  },
  {
   "cell_type": "markdown",
   "metadata": {},
   "source": [
    "# Write a Python function to find the Max of three numbers."
   ]
  },
  {
   "cell_type": "code",
   "execution_count": 26,
   "metadata": {},
   "outputs": [
    {
     "name": "stdout",
     "output_type": "stream",
     "text": [
      "Enter the first Number: 1\n",
      "Enter the second Number: 2\n",
      "Enter the third Number: 4\n",
      "The biggest number is 4\n"
     ]
    }
   ],
   "source": [
    "def maximum(a,b,c):\n",
    "    if a>b and a>c:\n",
    "        big = a\n",
    "    elif b>c and b>a:\n",
    "        big = b\n",
    "    else:\n",
    "        big = c\n",
    "    return big\n",
    "\n",
    "x = int(input('Enter the first Number: '))\n",
    "y = int(input('Enter the second Number: '))\n",
    "z = int(input('Enter the third Number: '))\n",
    "res = maximum(x,y,z)\n",
    "print('The biggest number is',res)"
   ]
  },
  {
   "cell_type": "markdown",
   "metadata": {},
   "source": [
    "# Write a program to find out the sum of elements of a list."
   ]
  },
  {
   "cell_type": "code",
   "execution_count": null,
   "metadata": {},
   "outputs": [],
   "source": [
    "def sum_of_list(L):\n",
    "    s = 0\n",
    "    for i in L:\n",
    "        s = s+i\n",
    "    return s\n",
    "\n",
    "list1 = []\n",
    "n = int(input('How many elements you want to enter?'))\n",
    "for i in range(n):\n",
    "    el = int(input('Enter the elements:'))\n",
    "    list1.append(el)\n",
    "sum_of_list(list1)"
   ]
  },
  {
   "cell_type": "markdown",
   "metadata": {},
   "source": [
    "# Write a Python function to create and print a list where the values are square of numbers between 1 and 20 (both included)."
   ]
  },
  {
   "cell_type": "code",
   "execution_count": 29,
   "metadata": {},
   "outputs": [
    {
     "name": "stdout",
     "output_type": "stream",
     "text": [
      "[1, 4, 9, 16, 25, 36, 49, 64, 81, 100, 121, 144, 169, 196, 225, 256, 289, 324, 361, 400]\n"
     ]
    }
   ],
   "source": [
    "L = []\n",
    "def print_value():\n",
    "    for i in range(1,21):\n",
    "        L.append(i**2)\n",
    "    print(L)\n",
    "\n",
    "print_value()"
   ]
  },
  {
   "cell_type": "markdown",
   "metadata": {},
   "source": [
    "# Write a Python function that takes a list and returns a new list with even elements in the list."
   ]
  },
  {
   "cell_type": "code",
   "execution_count": 30,
   "metadata": {},
   "outputs": [
    {
     "name": "stdout",
     "output_type": "stream",
     "text": [
      "How many elements you want to enter?4\n",
      "Enter the elements:3\n",
      "Enter the elements:3\n",
      "Enter the elements:4\n",
      "Enter the elements:5\n",
      "The new list: [4]\n"
     ]
    }
   ],
   "source": [
    "l1 = []\n",
    "def even(L):\n",
    "    for i in L:\n",
    "        if i%2==0:\n",
    "            l1.append(i)\n",
    "    print('The new list:',l1)\n",
    "    \n",
    "L1 = []\n",
    "n = int(input('How many elements you want to enter?'))\n",
    "for i in range(n):\n",
    "    el = int(input('Enter the elements:'))\n",
    "    L1.append(el)\n",
    "even(L1)"
   ]
  },
  {
   "cell_type": "markdown",
   "metadata": {},
   "source": [
    "# Write a function that takes a list and returns a new list with unique elements of the first list."
   ]
  },
  {
   "cell_type": "code",
   "execution_count": null,
   "metadata": {},
   "outputs": [],
   "source": [
    "list1 = []\n",
    "def unique(L):\n",
    "    for i in L:\n",
    "        if i not in list1:\n",
    "            list1.append(i)\n",
    "    print('The new list',list1)\n",
    "\n",
    "L1 = []\n",
    "n = int(input('How many elements you want to enter?'))\n",
    "for i in range(n):\n",
    "    el = int(input('Enter the elements:'))\n",
    "    L1.append(el)\n",
    "    \n",
    "unique(L1)"
   ]
  },
  {
   "cell_type": "markdown",
   "metadata": {},
   "source": [
    "# Write a Python function to check whether a number is perfect or not. In number theory, a perfect number is a positive integer that is equal to the sum of its proper positive divisors, excluding the number itself. Example : The first perfect number is 6, because 1, 2, and 3 are its proper positive divisors, and 1 + 2 + 3 = 6."
   ]
  },
  {
   "cell_type": "code",
   "execution_count": null,
   "metadata": {},
   "outputs": [],
   "source": [
    "def perfect(n):\n",
    "    s = 0\n",
    "    for i in range(1,n):\n",
    "        if n%i==0:\n",
    "            s = s+i\n",
    "    if s == n:\n",
    "        print(n,'is prefect number')\n",
    "    else:\n",
    "        print(n,'is not prefect number')\n",
    "        \n",
    "n = int(input('Enter the number: '))\n",
    "perfect(n)"
   ]
  },
  {
   "cell_type": "markdown",
   "metadata": {},
   "source": [
    "# Recursion:"
   ]
  },
  {
   "cell_type": "markdown",
   "metadata": {},
   "source": [
    "# Write a program to find out the factorial of a given number using recursion."
   ]
  },
  {
   "cell_type": "code",
   "execution_count": null,
   "metadata": {},
   "outputs": [],
   "source": [
    "def facto(n):\n",
    "    if n == 0:\n",
    "        return 1\n",
    "    else:\n",
    "        return n*facto(n-1)\n",
    "\n",
    "n1 = int(input('Enter the number: '))\n",
    "facto(n1)"
   ]
  },
  {
   "cell_type": "markdown",
   "metadata": {},
   "source": [
    "# Write a program to find out the sum of first n natural numbers using recursion."
   ]
  },
  {
   "cell_type": "code",
   "execution_count": null,
   "metadata": {},
   "outputs": [],
   "source": [
    "def natural(n):\n",
    "    if n == 0:\n",
    "        return 0\n",
    "    else:\n",
    "        return n+natural(n-1)\n",
    "\n",
    "n1 = int(input('Enter the number: '))\n",
    "natural(n1)"
   ]
  },
  {
   "cell_type": "markdown",
   "metadata": {},
   "source": [
    "# Write a program to calculate sum of digits of a 5 digits number using recursion."
   ]
  },
  {
   "cell_type": "code",
   "execution_count": 33,
   "metadata": {},
   "outputs": [
    {
     "name": "stdout",
     "output_type": "stream",
     "text": [
      "Enter the five digit number: 12345\n",
      "The sum of digits is 15\n"
     ]
    }
   ],
   "source": [
    "def sum_of_digits(n,r=0):\n",
    "    if n==0:\n",
    "        return 0\n",
    "    else:\n",
    "        return n%10+sum_of_digits(n//10)\n",
    "    \n",
    "n = int(input('Enter the five digit number: '))\n",
    "res = sum_of_digits(n)\n",
    "print('The sum of digits is',res)"
   ]
  },
  {
   "cell_type": "markdown",
   "metadata": {},
   "source": [
    "# Write a Python program to reverse the 5 digits number using recursion."
   ]
  },
  {
   "cell_type": "code",
   "execution_count": null,
   "metadata": {},
   "outputs": [],
   "source": [
    "def revnum(n,r):\n",
    "    if n==0:\n",
    "        return r\n",
    "    else:\n",
    "        return revnum(n//10,r*10+n%10)\n",
    "    \n",
    "n = int(input('Enter five digits number: ')) #12345\n",
    "res = revnum(n,0)\n",
    "print('The reverse number is',res)"
   ]
  },
  {
   "cell_type": "markdown",
   "metadata": {},
   "source": [
    "# map() function"
   ]
  },
  {
   "cell_type": "code",
   "execution_count": null,
   "metadata": {},
   "outputs": [],
   "source": [
    "import math\n",
    "def area(r):\n",
    "    a = math.pi*r**2\n",
    "    return 'The area is {}'.format(a)\n",
    "r = int(input('Enter the radius: '))\n",
    "area(r)"
   ]
  },
  {
   "cell_type": "code",
   "execution_count": null,
   "metadata": {},
   "outputs": [],
   "source": [
    "r1 = [1,2,3,4,5,6]"
   ]
  },
  {
   "cell_type": "code",
   "execution_count": null,
   "metadata": {},
   "outputs": [],
   "source": [
    "import math\n",
    "def area(r):\n",
    "    a = math.pi*r**2\n",
    "    return 'The area is {}'.format(a)\n",
    "\n",
    "radius = []\n",
    "n = int(input('How many elements you want to enter?'))\n",
    "for i in range(n):\n",
    "    el = int(input('Enter the element: '))\n",
    "    radius.append(el)\n",
    "print('The radii',radius)\n",
    "\n",
    "areas = []\n",
    "for i in radius:\n",
    "    a1 = area(i)\n",
    "    areas.append(a1)\n",
    "    \n",
    "print(areas)"
   ]
  },
  {
   "cell_type": "code",
   "execution_count": null,
   "metadata": {},
   "outputs": [],
   "source": [
    "import math\n",
    "def area(r):\n",
    "    a = math.pi*r**2\n",
    "    return 'The area is {}'.format(a)\n",
    "\n",
    "radius = []\n",
    "n = int(input('How many elements you want to enter?'))\n",
    "for i in range(n):\n",
    "    el = int(input('Enter the element: '))\n",
    "    radius.append(el)\n",
    "print('The radii',radius)\n",
    "\n",
    "res=map(area,radius)\n",
    "print(res)"
   ]
  },
  {
   "cell_type": "code",
   "execution_count": null,
   "metadata": {},
   "outputs": [],
   "source": [
    "import math\n",
    "def area(r):\n",
    "    a = math.pi*r**2\n",
    "    return 'The area is {}'.format(a)\n",
    "\n",
    "radius = []\n",
    "n = int(input('How many elements you want to enter?'))\n",
    "for i in range(n):\n",
    "    el = int(input('Enter the element: '))\n",
    "    radius.append(el)\n",
    "print('The radii',radius)\n",
    "\n",
    "res=map(area,radius)\n",
    "res = list(res)\n",
    "print(res)"
   ]
  },
  {
   "cell_type": "code",
   "execution_count": null,
   "metadata": {},
   "outputs": [],
   "source": [
    "radius = []\n",
    "n = int(input('How many elements you want to enter?'))\n",
    "for i in range(n):\n",
    "    el = int(input('Enter the element: '))\n",
    "    radius.append(el)\n",
    "print('The radii',radius)\n",
    "\n",
    "res=map(lambda r:math.pi*r**2,radius)\n",
    "for i in res:\n",
    "    print(i)"
   ]
  },
  {
   "cell_type": "code",
   "execution_count": null,
   "metadata": {},
   "outputs": [],
   "source": [
    "def evenorodd(n):\n",
    "    if n%2==0:\n",
    "        return 'The {} is even'.format(n)\n",
    "    else:\n",
    "        return 'The {} is odd'.format(n)\n",
    "    \n",
    "numbers = []\n",
    "n = int(input('How many elements you want to enter?'))\n",
    "for i in range(n):\n",
    "    el = int(input('Enter the element: '))\n",
    "    numbers.append(el)\n",
    "print('The numbers',numbers)\n",
    "\n",
    "res = map(evenorodd,numbers)\n",
    "res=list(res)\n",
    "print(res)"
   ]
  },
  {
   "cell_type": "code",
   "execution_count": null,
   "metadata": {},
   "outputs": [],
   "source": [
    "numbers = []\n",
    "n = int(input('How many elements you want to enter?'))\n",
    "for i in range(n):\n",
    "    el = int(input('Enter the element: '))\n",
    "    numbers.append(el)\n",
    "print('The numbers',numbers)\n",
    "\n",
    "res = map(lambda n: n%2==0,numbers)\n",
    "res=list(res)\n",
    "print(res)"
   ]
  },
  {
   "cell_type": "code",
   "execution_count": 34,
   "metadata": {},
   "outputs": [
    {
     "name": "stdout",
     "output_type": "stream",
     "text": [
      "     March 2022\n",
      "Mo Tu We Th Fr Sa Su\n",
      "    1  2  3  4  5  6\n",
      " 7  8  9 10 11 12 13\n",
      "14 15 16 17 18 19 20\n",
      "21 22 23 24 25 26 27\n",
      "28 29 30 31\n",
      "\n"
     ]
    }
   ],
   "source": [
    "import calendar\n",
    "year = 2022\n",
    "month = 3\n",
    "x = calendar.month(year,month)\n",
    "print(x)"
   ]
  },
  {
   "cell_type": "code",
   "execution_count": null,
   "metadata": {},
   "outputs": [],
   "source": []
  }
 ],
 "metadata": {
  "kernelspec": {
   "display_name": "Python 3",
   "language": "python",
   "name": "python3"
  },
  "language_info": {
   "codemirror_mode": {
    "name": "ipython",
    "version": 3
   },
   "file_extension": ".py",
   "mimetype": "text/x-python",
   "name": "python",
   "nbconvert_exporter": "python",
   "pygments_lexer": "ipython3",
   "version": "3.9.1"
  }
 },
 "nbformat": 4,
 "nbformat_minor": 4
}
