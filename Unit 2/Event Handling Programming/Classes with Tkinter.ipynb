{
 "cells": [
  {
   "cell_type": "code",
   "execution_count": null,
   "metadata": {},
   "outputs": [],
   "source": [
    "from tkinter import *\n",
    "window = Tk()\n",
    "window.title('Tkinter Class Example')\n",
    "window.geometry('500x400')\n",
    "class Elder:\n",
    "    def __init__(self,master):\n",
    "        myFrame = Frame(master)\n",
    "        myFrame.pack()\n",
    "        self.myButton = Button(master,text='Click Me',command=self.clicker)\n",
    "        self.myButton.pack(pady=20)\n",
    "        \n",
    "    def clicker(self):\n",
    "        print('You have clicked a button')\n",
    "        \n",
    "e = Elder(window)\n",
    "window.mainloop()\n"
   ]
  },
  {
   "cell_type": "code",
   "execution_count": 2,
   "metadata": {},
   "outputs": [],
   "source": [
    "from tkinter import *\n",
    "window = Tk()\n",
    "window.title('Tkinter Class Example')\n",
    "window.geometry('500x400')\n",
    "\n",
    "class Example:\n",
    "    def __init__(self,master):\n",
    "        self.frame = Frame(master)\n",
    "        self.frame.pack()\n",
    "        self.btn = Button(self.frame,text='Click',command=self.clicker)\n",
    "        self.btn.pack(pady=10)\n",
    "        \n",
    "    def clicker(self):\n",
    "        self.l1=Label(self.frame,text='Hello all')\n",
    "        self.l1.pack()\n",
    "        \n",
    "E = Example(window)\n",
    "\n",
    "window.mainloop()\n"
   ]
  },
  {
   "cell_type": "code",
   "execution_count": null,
   "metadata": {},
   "outputs": [],
   "source": []
  },
  {
   "cell_type": "code",
   "execution_count": 8,
   "metadata": {},
   "outputs": [],
   "source": [
    "from tkinter import *\n",
    "window = Tk()\n",
    "window.geometry('400x400')\n",
    "window.title('Class Example using Tkinter')\n",
    "window.minsize(350,350)\n",
    "window.maxsize(500,500)\n",
    "\n",
    "class Example:\n",
    "    def __init__(self,master):\n",
    "        self.frame = Frame(master)\n",
    "        self.frame.pack()\n",
    "        self.btn = Button(self.frame,text='Click',command=self.clicker)\n",
    "        self.btn.pack(pady=20)\n",
    "    def clicker(self):\n",
    "        self.l1 = Label(self.frame,text='Hello')\n",
    "        self.l1.pack()\n",
    "        \n",
    "E = Example(window)\n",
    "\n",
    "window.mainloop()"
   ]
  },
  {
   "cell_type": "code",
   "execution_count": null,
   "metadata": {},
   "outputs": [],
   "source": []
  },
  {
   "cell_type": "code",
   "execution_count": null,
   "metadata": {},
   "outputs": [],
   "source": []
  },
  {
   "cell_type": "code",
   "execution_count": null,
   "metadata": {},
   "outputs": [],
   "source": []
  },
  {
   "cell_type": "code",
   "execution_count": null,
   "metadata": {},
   "outputs": [],
   "source": []
  },
  {
   "cell_type": "code",
   "execution_count": null,
   "metadata": {},
   "outputs": [],
   "source": []
  },
  {
   "cell_type": "code",
   "execution_count": null,
   "metadata": {},
   "outputs": [],
   "source": []
  }
 ],
 "metadata": {
  "kernelspec": {
   "display_name": "Python 3",
   "language": "python",
   "name": "python3"
  },
  "language_info": {
   "codemirror_mode": {
    "name": "ipython",
    "version": 3
   },
   "file_extension": ".py",
   "mimetype": "text/x-python",
   "name": "python",
   "nbconvert_exporter": "python",
   "pygments_lexer": "ipython3",
   "version": "3.9.1"
  }
 },
 "nbformat": 4,
 "nbformat_minor": 4
}
