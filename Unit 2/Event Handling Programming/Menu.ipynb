{
 "cells": [
  {
   "cell_type": "code",
   "execution_count": 4,
   "metadata": {},
   "outputs": [],
   "source": [
    "from tkinter import *\n",
    "from tkinter import ttk\n",
    "window = Tk()\n",
    "window.title('Menu')\n",
    "window.geometry('500x400')\n",
    "\n",
    "my_menu = Menu(window)\n",
    "window.config(menu=my_menu)\n",
    "\n",
    "def our_command():\n",
    "    l1 = Label(window,text='You clicked the dropdown menu').pack()\n",
    "\n",
    "#create a menu item\n",
    "file_menu = Menu(my_menu)\n",
    "my_menu.add_cascade(label='File',menu=file_menu)\n",
    "file_menu.add_command(label='New..',command=our_command)\n",
    "file_menu.add_command(label='Open',command=our_command)\n",
    "file_menu.add_command(label='Save',command=our_command)\n",
    "file_menu.add_separator()\n",
    "file_menu.add_command(label='Exit',command=window.quit)\n",
    "\n",
    "#create edit menu\n",
    "edit_menu = Menu(my_menu)\n",
    "my_menu.add_cascade(label='Edit',menu=edit_menu)\n",
    "edit_menu.add_command(label='Cut',command=our_command)\n",
    "edit_menu.add_command(label='Copy',command=our_command)\n",
    "\n",
    "find_menu = Menu(my_menu)\n",
    "my_menu.add_cascade(label='Find',menu=find_menu)\n",
    "find_menu.add_command(label='Find',command=our_command)\n",
    "\n",
    "\n",
    "window.mainloop()"
   ]
  },
  {
   "cell_type": "code",
   "execution_count": null,
   "metadata": {},
   "outputs": [],
   "source": []
  }
 ],
 "metadata": {
  "kernelspec": {
   "display_name": "Python 3",
   "language": "python",
   "name": "python3"
  },
  "language_info": {
   "codemirror_mode": {
    "name": "ipython",
    "version": 3
   },
   "file_extension": ".py",
   "mimetype": "text/x-python",
   "name": "python",
   "nbconvert_exporter": "python",
   "pygments_lexer": "ipython3",
   "version": "3.7.5"
  }
 },
 "nbformat": 4,
 "nbformat_minor": 2
}
