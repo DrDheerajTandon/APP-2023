{
 "cells": [
  {
   "cell_type": "code",
   "execution_count": 3,
   "metadata": {},
   "outputs": [],
   "source": [
    "from tkinter import *\n",
    "from PIL import ImageTk, Image\n",
    "from tkinter import filedialog\n",
    "\n",
    "window = Tk()\n",
    "window.minsize(300,400)\n",
    "window.maxsize(800,800)\n",
    "window.geometry('400x400')\n",
    "window.iconbitmap(r'fav.ico')\n",
    "window.title('Color Picker')\n",
    "\n",
    "filename = filedialog.askopenfilename(initialdir = r'C:\\Users\\ARVIND\\Desktop\\APP-2022\\Unit 2',title='Select a file',filetypes=(('png files','*.png'),('all files','*.*')))\n",
    "\n",
    "window.mainloop()\n"
   ]
  },
  {
   "cell_type": "markdown",
   "metadata": {},
   "source": [
    "# Return File"
   ]
  },
  {
   "cell_type": "markdown",
   "metadata": {},
   "source": [
    "from tkinter import *\n",
    "from PIL import ImageTk, Image\n",
    "from tkinter import filedialog\n",
    "\n",
    "window = Tk()\n",
    "window.minsize(300,400)\n",
    "window.maxsize(800,800)\n",
    "window.geometry('400x400')\n",
    "window.iconbitmap(r'fav.ico')\n",
    "window.title('Color Picker')\n",
    "\n",
    "window.filename = filedialog.askopenfilename(initialdir = r'C:\\Users\\ARVIND\\Desktop\\APP-2022\\Unit 2',\n",
    "                                             title='Select a file',\n",
    "                                             filetypes=(('png files','*.png'),('all files','*.*')))\n",
    "\n",
    "l1 = Label(window,text=window.filename)\n",
    "l1.pack()\n",
    "window.mainloop()\n"
   ]
  },
  {
   "cell_type": "markdown",
   "metadata": {},
   "source": [
    "# Access File on window"
   ]
  },
  {
   "cell_type": "code",
   "execution_count": 2,
   "metadata": {},
   "outputs": [],
   "source": [
    "from tkinter import *\n",
    "from PIL import ImageTk, Image\n",
    "from tkinter import filedialog\n",
    "\n",
    "window = Tk()\n",
    "window.minsize(300,400)\n",
    "window.maxsize(800,800)\n",
    "window.geometry('400x400')\n",
    "window.iconbitmap(r'fav.ico')\n",
    "window.title('Color Picker')\n",
    "\n",
    "filename = filedialog.askopenfilename(initialdir = r'C:\\Users\\ARVIND\\Desktop\\APP-2022\\Unit 2',\n",
    "                                             title='Select a file',\n",
    "                                             filetypes=(('png files','*.png'),('all files','*.*')))\n",
    "\n",
    "img = Image.open(filename)\n",
    "my_image = ImageTk.PhotoImage(img)\n",
    "my_image_label = Label(image=my_image).pack()\n",
    "\n",
    "window.mainloop()\n"
   ]
  },
  {
   "cell_type": "code",
   "execution_count": null,
   "metadata": {},
   "outputs": [],
   "source": []
  },
  {
   "cell_type": "code",
   "execution_count": null,
   "metadata": {},
   "outputs": [],
   "source": []
  }
 ],
 "metadata": {
  "kernelspec": {
   "display_name": "Python 3",
   "language": "python",
   "name": "python3"
  },
  "language_info": {
   "codemirror_mode": {
    "name": "ipython",
    "version": 3
   },
   "file_extension": ".py",
   "mimetype": "text/x-python",
   "name": "python",
   "nbconvert_exporter": "python",
   "pygments_lexer": "ipython3",
   "version": "3.9.1"
  }
 },
 "nbformat": 4,
 "nbformat_minor": 4
}
