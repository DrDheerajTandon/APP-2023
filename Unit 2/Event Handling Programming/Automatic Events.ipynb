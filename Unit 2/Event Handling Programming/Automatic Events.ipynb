{
 "cells": [
  {
   "cell_type": "code",
   "execution_count": 2,
   "metadata": {},
   "outputs": [],
   "source": [
    "from tkinter import *\n",
    "window = Tk()\n",
    "window.title('Automatic Events')\n",
    "window.minsize(100,100)\n",
    "window.maxsize(800,800)\n",
    "window.geometry('300x200')\n",
    "window.iconbitmap(r'fav.ico')\n",
    "\n",
    "def update():\n",
    "    l1.config(text='New Text')\n",
    "\n",
    "l1 = Label(window,text='Old Text')\n",
    "l1.pack()\n",
    "l1.after(3000,update)\n",
    "\n",
    "\n",
    "window.mainloop()"
   ]
  },
  {
   "cell_type": "markdown",
   "metadata": {},
   "source": [
    "# Clock"
   ]
  },
  {
   "cell_type": "code",
   "execution_count": 8,
   "metadata": {},
   "outputs": [],
   "source": [
    "from tkinter import *\n",
    "import time\n",
    "window = Tk()\n",
    "window.title('Automatic events')\n",
    "window.geometry('400x400')\n",
    "\n",
    "def clock():\n",
    "    hour = time.strftime('%H')\n",
    "    minute = time.strftime('%M')\n",
    "    second = time.strftime('%S')\n",
    "    \n",
    "    my_label.config(text=hour+':'+minute+':'+second)\n",
    "    my_label.after(1000,clock)\n",
    "\n",
    "my_label = Label(window,text='',bg='black',fg='white',font='Arial 25 bold')\n",
    "my_label.pack(pady=50)\n",
    "clock()\n",
    "\n",
    "window.mainloop()"
   ]
  },
  {
   "cell_type": "code",
   "execution_count": null,
   "metadata": {},
   "outputs": [],
   "source": []
  },
  {
   "cell_type": "code",
   "execution_count": 5,
   "metadata": {},
   "outputs": [],
   "source": [
    "window = Tk()\n",
    "window.title('Automatic events')\n",
    "window.geometry('400x400')\n",
    "\n",
    "def clock():\n",
    "    hour = time.strftime('%H')\n",
    "    minute = time.strftime('%M')\n",
    "    second = time.strftime('%S')\n",
    "    am_pm = time.strftime('%p')\n",
    "    \n",
    "    my_label.config(text=hour+':'+minute+':'+second+am_pm)\n",
    "    my_label.after(1000,clock)\n",
    "\n",
    "my_label = Label(window,text='',bg='blue',fg='white',font='Arial 25 bold')\n",
    "my_label.pack(pady=50)\n",
    "clock()\n",
    "\n",
    "window.mainloop()"
   ]
  },
  {
   "cell_type": "code",
   "execution_count": null,
   "metadata": {},
   "outputs": [],
   "source": []
  }
 ],
 "metadata": {
  "kernelspec": {
   "display_name": "Python 3",
   "language": "python",
   "name": "python3"
  },
  "language_info": {
   "codemirror_mode": {
    "name": "ipython",
    "version": 3
   },
   "file_extension": ".py",
   "mimetype": "text/x-python",
   "name": "python",
   "nbconvert_exporter": "python",
   "pygments_lexer": "ipython3",
   "version": "3.9.1"
  }
 },
 "nbformat": 4,
 "nbformat_minor": 4
}
