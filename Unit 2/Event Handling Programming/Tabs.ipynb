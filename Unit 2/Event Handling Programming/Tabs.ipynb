{
 "cells": [
  {
   "cell_type": "code",
   "execution_count": 3,
   "metadata": {},
   "outputs": [],
   "source": [
    "from tkinter import *\n",
    "from tkinter import ttk\n",
    "window = Tk()\n",
    "window.title('Tabs')\n",
    "window.geometry('500x400')\n",
    "\n",
    "my_notebook = ttk.Notebook(window)\n",
    "my_notebook.pack()\n",
    "\n",
    "my_frame1 = Frame(my_notebook,width=500,height=500,bg='blue')\n",
    "my_frame2 = Frame(my_notebook,width=500,height=500,bg='red')\n",
    "\n",
    "my_frame1.pack(fill='both',expand=1)\n",
    "my_frame2.pack(fill='both',expand=1)\n",
    "\n",
    "my_notebook.add(my_frame1,text='Blue Tab')\n",
    "my_notebook.add(my_frame2,text='Red Tab')\n",
    "\n",
    "window.mainloop()"
   ]
  },
  {
   "cell_type": "markdown",
   "metadata": {},
   "source": [
    "# Hide Tabs"
   ]
  },
  {
   "cell_type": "code",
   "execution_count": 8,
   "metadata": {},
   "outputs": [],
   "source": [
    "from tkinter import *\n",
    "from tkinter import ttk\n",
    "window = Tk()\n",
    "window.title('Tabs')\n",
    "window.geometry('500x400')\n",
    "\n",
    "my_notebook = ttk.Notebook(window)\n",
    "my_notebook.pack()\n",
    "\n",
    "def hide():\n",
    "    my_notebook.hide(1)\n",
    "\n",
    "my_frame1 = Frame(my_notebook,width=500,height=500,bg='blue')\n",
    "my_frame2 = Frame(my_notebook,width=500,height=500,bg='red')\n",
    "\n",
    "my_frame1.pack(fill='both',expand=1)\n",
    "my_frame2.pack(fill='both',expand=1)\n",
    "\n",
    "my_notebook.add(my_frame1,text='Blue Tab')\n",
    "my_notebook.add(my_frame2,text='Red Tab')\n",
    "\n",
    "my_button = Button(my_frame1,text='Hide Tab 2',command=hide)\n",
    "my_buttony.pack(pady=10)\n",
    "\n",
    "window.mainloop()"
   ]
  },
  {
   "cell_type": "markdown",
   "metadata": {},
   "source": [
    "# Show Tabs"
   ]
  },
  {
   "cell_type": "code",
   "execution_count": 11,
   "metadata": {},
   "outputs": [],
   "source": [
    "from tkinter import *\n",
    "from tkinter import ttk\n",
    "window = Tk()\n",
    "window.title('Tabs')\n",
    "window.geometry('500x400')\n",
    "\n",
    "my_notebook = ttk.Notebook(window)\n",
    "my_notebook.pack()\n",
    "\n",
    "def hide():\n",
    "    my_notebook.hide(1)\n",
    "\n",
    "def show():\n",
    "    my_notebook.add(my_frame2,text='Red Tab')\n",
    "\n",
    "\n",
    "my_frame1 = Frame(my_notebook,width=500,height=500,bg='blue')\n",
    "my_frame2 = Frame(my_notebook,width=500,height=500,bg='red')\n",
    "\n",
    "my_frame1.pack(fill='both',expand=1)\n",
    "my_frame2.pack(fill='both',expand=1)\n",
    "\n",
    "my_notebook.add(my_frame1,text='Blue Tab')\n",
    "my_notebook.add(my_frame2,text='Red Tab')\n",
    "\n",
    "my_button = Button(my_frame1,text='Hide Tab 2',command=hide)\n",
    "my_button.pack(pady=10)\n",
    "my_button2 = Button(my_frame1,text='Show Tab 2',command=show)\n",
    "my_button2.pack(pady=10)\n",
    "\n",
    "\n",
    "window.mainloop()"
   ]
  },
  {
   "cell_type": "markdown",
   "metadata": {},
   "source": [
    "# Navigate Tabs"
   ]
  },
  {
   "cell_type": "code",
   "execution_count": 13,
   "metadata": {},
   "outputs": [],
   "source": [
    "from tkinter import *\n",
    "from tkinter import ttk\n",
    "window = Tk()\n",
    "window.title('Tabs')\n",
    "window.geometry('500x400')\n",
    "\n",
    "my_notebook = ttk.Notebook(window)\n",
    "my_notebook.pack()\n",
    "\n",
    "def hide():\n",
    "    my_notebook.hide(1)\n",
    "\n",
    "def show():\n",
    "    my_notebook.add(my_frame2,text='Red Tab')\n",
    "\n",
    "def select():\n",
    "    my_notebook.select(1)\n",
    "\n",
    "my_frame1 = Frame(my_notebook,width=500,height=500,bg='blue')\n",
    "my_frame2 = Frame(my_notebook,width=500,height=500,bg='red')\n",
    "\n",
    "my_frame1.pack(fill='both',expand=1)\n",
    "my_frame2.pack(fill='both',expand=1)\n",
    "\n",
    "my_notebook.add(my_frame1,text='Blue Tab')\n",
    "my_notebook.add(my_frame2,text='Red Tab')\n",
    "\n",
    "my_button = Button(my_frame1,text='Hide Tab 2',command=hide)\n",
    "my_button.pack(pady=10)\n",
    "my_button2 = Button(my_frame1,text='Show Tab 2',command=show)\n",
    "my_button2.pack(pady=10)\n",
    "my_button3 = Button(my_frame1,text='Navigate',command=select)\n",
    "my_button3.pack(pady=10)\n",
    "\n",
    "\n",
    "window.mainloop()"
   ]
  },
  {
   "cell_type": "code",
   "execution_count": null,
   "metadata": {},
   "outputs": [],
   "source": []
  }
 ],
 "metadata": {
  "kernelspec": {
   "display_name": "Python 3",
   "language": "python",
   "name": "python3"
  },
  "language_info": {
   "codemirror_mode": {
    "name": "ipython",
    "version": 3
   },
   "file_extension": ".py",
   "mimetype": "text/x-python",
   "name": "python",
   "nbconvert_exporter": "python",
   "pygments_lexer": "ipython3",
   "version": "3.7.5"
  }
 },
 "nbformat": 4,
 "nbformat_minor": 2
}
