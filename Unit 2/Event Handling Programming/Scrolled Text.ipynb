{
 "cells": [
  {
   "cell_type": "code",
   "execution_count": null,
   "metadata": {},
   "outputs": [],
   "source": [
    "Scrolled Text"
   ]
  },
  {
   "cell_type": "code",
   "execution_count": 3,
   "metadata": {},
   "outputs": [],
   "source": [
    "from tkinter import *\n",
    "from tkinter import scrolledtext\n",
    "window = Tk()\n",
    "window.title('Scrolled Text')\n",
    "window.minsize(100,100)\n",
    "window.maxsize(800,800)\n",
    "window.geometry('300x200')\n",
    "window.iconbitmap(r'fav.ico')\n",
    "st = scrolledtext.ScrolledText(window,wrap=CHAR)\n",
    "st.pack()\n",
    "st.insert('insert','Hello Guys how are you, please write something to check whether it is working or not')\n",
    "st.insert('insert','Hello Guys how are you, please write something to check whether it is working or not')\n",
    "window.mainloop()"
   ]
  },
  {
   "cell_type": "markdown",
   "metadata": {},
   "source": [
    "# If you dont want to write anything on the window"
   ]
  },
  {
   "cell_type": "code",
   "execution_count": 4,
   "metadata": {},
   "outputs": [],
   "source": [
    "from tkinter import *\n",
    "from tkinter import scrolledtext\n",
    "window = Tk()\n",
    "window.title('Scrolled Text')\n",
    "window.minsize(100,100)\n",
    "window.maxsize(800,800)\n",
    "window.geometry('300x200')\n",
    "window.iconbitmap(r'fav.ico')\n",
    "st = scrolledtext.ScrolledText(window,wrap=WORD)\n",
    "st.pack()\n",
    "st.insert('insert','Hello Guys how are you, please write something to check whether it is working or not')\n",
    "st.insert('insert','Hello Guys how are you, please write something to check whether it is working or not')\n",
    "st.config(state=DISABLED)\n",
    "window.mainloop()"
   ]
  },
  {
   "cell_type": "markdown",
   "metadata": {},
   "source": [
    "# width height and font"
   ]
  },
  {
   "cell_type": "code",
   "execution_count": 4,
   "metadata": {},
   "outputs": [],
   "source": [
    "from tkinter import *\n",
    "from tkinter import scrolledtext\n",
    "window = Tk()\n",
    "window.title('Scrolled Text')\n",
    "window.minsize(100,100)\n",
    "window.maxsize(800,800)\n",
    "window.geometry('300x200')\n",
    "window.iconbitmap(r'fav.ico')\n",
    "st = scrolledtext.ScrolledText(window,wrap=WORD,width=300,height=300,font=('Arial Black',15))\n",
    "st.pack()\n",
    "st.insert('insert','Hello Guys how are you, please write something to check whether it is working or not')\n",
    "window.mainloop()"
   ]
  },
  {
   "cell_type": "code",
   "execution_count": null,
   "metadata": {},
   "outputs": [],
   "source": []
  }
 ],
 "metadata": {
  "kernelspec": {
   "display_name": "Python 3",
   "language": "python",
   "name": "python3"
  },
  "language_info": {
   "codemirror_mode": {
    "name": "ipython",
    "version": 3
   },
   "file_extension": ".py",
   "mimetype": "text/x-python",
   "name": "python",
   "nbconvert_exporter": "python",
   "pygments_lexer": "ipython3",
   "version": "3.9.1"
  }
 },
 "nbformat": 4,
 "nbformat_minor": 4
}
