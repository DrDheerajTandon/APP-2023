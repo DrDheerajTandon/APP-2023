{
 "cells": [
  {
   "cell_type": "code",
   "execution_count": 1,
   "metadata": {},
   "outputs": [],
   "source": [
    "from tkinter import *\n",
    "from tkinter import colorchooser\n",
    "window = Tk()\n",
    "window.minsize(300,400)\n",
    "window.maxsize(800,800)\n",
    "window.geometry('400x400')\n",
    "window.iconbitmap(r'fav.ico')\n",
    "window.title('Color Picker')\n",
    "\n",
    "def clicker():\n",
    "    my_color = colorchooser.askcolor()\n",
    "\n",
    "btn = Button(window,text='Pick Color',command=clicker)\n",
    "btn.pack()\n",
    "\n",
    "window.mainloop()\n"
   ]
  },
  {
   "cell_type": "markdown",
   "metadata": {},
   "source": [
    "# Return Color code"
   ]
  },
  {
   "cell_type": "code",
   "execution_count": 6,
   "metadata": {},
   "outputs": [],
   "source": [
    "from tkinter import *\n",
    "from tkinter import colorchooser\n",
    "window = Tk()\n",
    "window.minsize(300,400)\n",
    "window.maxsize(800,800)\n",
    "window.geometry('400x400')\n",
    "window.iconbitmap(r'fav.ico')\n",
    "window.title('Color Picker')\n",
    "\n",
    "def clicker():\n",
    "    my_color = colorchooser.askcolor()\n",
    "    l1 = Label(window,text=my_color)\n",
    "    l1.pack()\n",
    "\n",
    "btn = Button(window,text='Pick Color',command=clicker)\n",
    "btn.pack()\n",
    "\n",
    "window.mainloop()\n"
   ]
  },
  {
   "cell_type": "markdown",
   "metadata": {},
   "source": [
    "# Get hex code of the color"
   ]
  },
  {
   "cell_type": "code",
   "execution_count": 3,
   "metadata": {},
   "outputs": [],
   "source": [
    "from tkinter import *\n",
    "from tkinter import colorchooser\n",
    "window = Tk()\n",
    "window.minsize(300,400)\n",
    "window.maxsize(800,800)\n",
    "window.geometry('400x400')\n",
    "window.iconbitmap(r'fav.ico')\n",
    "window.title('Color Picker')\n",
    "\n",
    "def clicker():\n",
    "    my_color = colorchooser.askcolor()[1]\n",
    "    l1 = Label(window,text=my_color)\n",
    "    l1.pack()\n",
    "\n",
    "btn = Button(window,text='Pick Color',command=clicker)\n",
    "btn.pack()\n",
    "\n",
    "window.mainloop()\n"
   ]
  },
  {
   "cell_type": "markdown",
   "metadata": {},
   "source": [
    "# Pick color dynamically"
   ]
  },
  {
   "cell_type": "code",
   "execution_count": 7,
   "metadata": {},
   "outputs": [],
   "source": [
    "from tkinter import *\n",
    "from tkinter import colorchooser\n",
    "window = Tk()\n",
    "window.minsize(300,400)\n",
    "window.maxsize(800,800)\n",
    "window.geometry('400x400')\n",
    "window.iconbitmap(r'fav.ico')\n",
    "window.title('Color Picker')\n",
    "\n",
    "def clicker():\n",
    "    my_color = colorchooser.askcolor()[1]\n",
    "    l1 = Label(window,text=my_color)\n",
    "    l1.pack()\n",
    "    l2 = Label(window,text='You Picked a color',bg=my_color)\n",
    "    l2.pack()\n",
    "\n",
    "btn = Button(window,text='Pick Color',command=clicker)\n",
    "btn.pack()\n",
    "\n",
    "window.mainloop()\n"
   ]
  },
  {
   "cell_type": "code",
   "execution_count": null,
   "metadata": {},
   "outputs": [],
   "source": []
  },
  {
   "cell_type": "code",
   "execution_count": null,
   "metadata": {},
   "outputs": [],
   "source": []
  }
 ],
 "metadata": {
  "kernelspec": {
   "display_name": "Python 3",
   "language": "python",
   "name": "python3"
  },
  "language_info": {
   "codemirror_mode": {
    "name": "ipython",
    "version": 3
   },
   "file_extension": ".py",
   "mimetype": "text/x-python",
   "name": "python",
   "nbconvert_exporter": "python",
   "pygments_lexer": "ipython3",
   "version": "3.9.1"
  }
 },
 "nbformat": 4,
 "nbformat_minor": 4
}
