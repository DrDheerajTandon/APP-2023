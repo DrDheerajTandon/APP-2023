{
 "cells": [
  {
   "cell_type": "code",
   "execution_count": 1,
   "metadata": {},
   "outputs": [
    {
     "name": "stdout",
     "output_type": "stream",
     "text": [
      "I am clicker\n"
     ]
    }
   ],
   "source": [
    "from tkinter import *\n",
    "window = Tk()\n",
    "window.title('Command')\n",
    "window.minsize(100,100)\n",
    "window.maxsize(800,800)\n",
    "window.geometry('300x200')\n",
    "window.iconbitmap(r'fav.ico')\n",
    "\n",
    "def clicker():\n",
    "    print(\"I am clicker\")\n",
    "\n",
    "btn = Button(window,text='Click Me',command=clicker)\n",
    "btn.pack()\n",
    "\n",
    "window.mainloop()"
   ]
  },
  {
   "cell_type": "code",
   "execution_count": 2,
   "metadata": {},
   "outputs": [],
   "source": [
    "from tkinter import *\n",
    "window = Tk()\n",
    "window.title('Command')\n",
    "window.minsize(100,100)\n",
    "window.maxsize(800,800)\n",
    "window.geometry('300x200')\n",
    "window.iconbitmap(r'fav.ico')\n",
    "\n",
    "def clicker():\n",
    "    l1 = Label(window,text=\"I am in Clicker\")\n",
    "    l1.pack()\n",
    "\n",
    "btn = Button(window,text='Click Me',command=clicker)\n",
    "btn.pack()\n",
    "\n",
    "window.mainloop()"
   ]
  },
  {
   "cell_type": "markdown",
   "metadata": {},
   "source": [
    "# config"
   ]
  },
  {
   "cell_type": "code",
   "execution_count": 4,
   "metadata": {},
   "outputs": [],
   "source": [
    "from tkinter import *\n",
    "window = Tk()\n",
    "window.title('Command')\n",
    "window.minsize(100,100)\n",
    "window.maxsize(800,800)\n",
    "window.geometry('300x200')\n",
    "window.iconbitmap(r'fav.ico')\n",
    "\n",
    "def clicker():\n",
    "    l1.config(text='I am label in clicker')\n",
    "    l1.pack()\n",
    "\n",
    "l1 = Label(window,text='I am label')\n",
    "l1.pack(pady=10)\n",
    "\n",
    "btn = Button(window,text='Click Me',command=clicker)\n",
    "btn.pack()\n",
    "\n",
    "window.mainloop()"
   ]
  },
  {
   "cell_type": "markdown",
   "metadata": {},
   "source": [
    "# Configuring the window"
   ]
  },
  {
   "cell_type": "code",
   "execution_count": 6,
   "metadata": {},
   "outputs": [],
   "source": [
    "from tkinter import *\n",
    "window = Tk()\n",
    "window.title('Command')\n",
    "window.minsize(100,100)\n",
    "window.maxsize(800,800)\n",
    "window.geometry('300x200')\n",
    "window.iconbitmap(r'fav.ico')\n",
    "\n",
    "def clicker():\n",
    "    window.config(bg='blue')\n",
    "    \n",
    "global l1\n",
    "l1 = Label(window,text='I am label')\n",
    "l1.pack(pady=10)\n",
    "\n",
    "global btn\n",
    "btn = Button(window,text='Click Me',command=clicker)\n",
    "btn.pack()\n",
    "\n",
    "window.mainloop()"
   ]
  },
  {
   "cell_type": "markdown",
   "metadata": {},
   "source": [
    "# Configuring the Button"
   ]
  },
  {
   "cell_type": "code",
   "execution_count": 11,
   "metadata": {},
   "outputs": [],
   "source": [
    "from tkinter import *\n",
    "window = Tk()\n",
    "window.title('Command')\n",
    "window.minsize(100,100)\n",
    "window.maxsize(800,800)\n",
    "window.geometry('300x200')\n",
    "window.iconbitmap(r'fav.ico')\n",
    "\n",
    "def clicker():\n",
    "    btn.config(text='Do not click me')\n",
    "    \n",
    "global btn\n",
    "btn = Button(window,text='Click Me',command=clicker)\n",
    "btn.pack()\n",
    "\n",
    "window.mainloop()"
   ]
  },
  {
   "cell_type": "code",
   "execution_count": null,
   "metadata": {},
   "outputs": [],
   "source": []
  }
 ],
 "metadata": {
  "kernelspec": {
   "display_name": "Python 3",
   "language": "python",
   "name": "python3"
  },
  "language_info": {
   "codemirror_mode": {
    "name": "ipython",
    "version": 3
   },
   "file_extension": ".py",
   "mimetype": "text/x-python",
   "name": "python",
   "nbconvert_exporter": "python",
   "pygments_lexer": "ipython3",
   "version": "3.9.1"
  }
 },
 "nbformat": 4,
 "nbformat_minor": 4
}
