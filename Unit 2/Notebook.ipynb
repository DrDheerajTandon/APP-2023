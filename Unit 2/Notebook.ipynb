{
 "cells": [
  {
   "cell_type": "code",
   "execution_count": 2,
   "metadata": {},
   "outputs": [],
   "source": [
    "from tkinter import *\n",
    "from tkinter import ttk\n",
    "window = Tk()\n",
    "window.title('Open Dialog box')\n",
    "window.geometry('500x400')\n",
    "\n",
    "my_notebook = ttk.Notebook(window)\n",
    "my_notebook.pack()\n",
    "\n",
    "my_frame1 = Frame(my_notebook,width=500,height=500,bg='blue')\n",
    "my_frame2 = Frame(my_notebook,width=500,height=500,bg='red')\n",
    "\n",
    "my_frame1.pack(fill='both',expand=1)\n",
    "my_frame2.pack(fill='both',expand=1)\n",
    "\n",
    "my_notebook.add(my_frame1,text='Blue Tab')\n",
    "my_notebook.add(my_frame2,text='Red Tab')\n",
    "\n",
    "window.mainloop()\n"
   ]
  },
  {
   "cell_type": "code",
   "execution_count": null,
   "metadata": {},
   "outputs": [],
   "source": []
  }
 ],
 "metadata": {
  "kernelspec": {
   "display_name": "Python 3",
   "language": "python",
   "name": "python3"
  },
  "language_info": {
   "codemirror_mode": {
    "name": "ipython",
    "version": 3
   },
   "file_extension": ".py",
   "mimetype": "text/x-python",
   "name": "python",
   "nbconvert_exporter": "python",
   "pygments_lexer": "ipython3",
   "version": "3.9.1"
  }
 },
 "nbformat": 4,
 "nbformat_minor": 4
}
