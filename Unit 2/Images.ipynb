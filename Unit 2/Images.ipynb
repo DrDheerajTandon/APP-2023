{
 "cells": [
  {
   "cell_type": "code",
   "execution_count": 1,
   "metadata": {},
   "outputs": [],
   "source": [
    "from tkinter import *\n",
    "window = Tk()\n",
    "window.title('Images')\n",
    "window.minsize(100,100)\n",
    "window.maxsize(800,800)\n",
    "window.geometry('400x400')\n",
    "window.iconbitmap(r'fav.ico')\n",
    "img = PhotoImage(file = r\"p.png\")\n",
    "label = Label(window,image=img)\n",
    "label.pack()\n",
    "window.mainloop()"
   ]
  },
  {
   "cell_type": "markdown",
   "metadata": {},
   "source": [
    "# JPG Image"
   ]
  },
  {
   "cell_type": "code",
   "execution_count": 2,
   "metadata": {},
   "outputs": [],
   "source": [
    "from tkinter import *\n",
    "from PIL import Image, ImageTk\n",
    "window = Tk()\n",
    "window.title('Images')\n",
    "window.geometry('400x300')\n",
    "image = Image.open(r\"me.jpg\")\n",
    "photo = ImageTk.PhotoImage(image)\n",
    "label =Label(window,image=photo)\n",
    "label.pack()\n",
    "window.mainloop()\n"
   ]
  },
  {
   "cell_type": "code",
   "execution_count": null,
   "metadata": {},
   "outputs": [],
   "source": []
  },
  {
   "cell_type": "code",
   "execution_count": 7,
   "metadata": {},
   "outputs": [],
   "source": [
    "from tkinter import *\n",
    "window = Tk()\n",
    "window.title('Images Buttons')\n",
    "login_btn = PhotoImage(file = r\"p.png\")\n",
    "#img_label =Label(window,image=login_btn)\n",
    "#img_label.pack()\n",
    "def thing():\n",
    "    my_label.config(text='You clicked the button')\n",
    "    \n",
    "\n",
    "btn = Button(window,text='click me',image=login_btn,command=thing)\n",
    "btn.pack()\n",
    "                   \n",
    "my_label = Label(window,text=' ')\n",
    "my_label.pack(pady=20)\n",
    "\n",
    "window.geometry('700x500')\n",
    "window.mainloop()\n"
   ]
  },
  {
   "cell_type": "code",
   "execution_count": 10,
   "metadata": {},
   "outputs": [],
   "source": [
    "from tkinter import *\n",
    "window = Tk()\n",
    "window.title('Images Buttons')\n",
    "login_btn = PhotoImage(file = r\"p.png\")\n",
    "\n",
    "def thing():\n",
    "    my_label.config(text='You clicked the button')\n",
    "    \n",
    "\n",
    "btn = Button(window,image=login_btn,command=thing)\n",
    "btn.pack()\n",
    "                   \n",
    "my_label = Label(window,text='')\n",
    "my_label.pack(pady=20)\n",
    "\n",
    "window.geometry('700x500')\n",
    "window.mainloop()\n"
   ]
  },
  {
   "cell_type": "code",
   "execution_count": null,
   "metadata": {},
   "outputs": [],
   "source": []
  },
  {
   "cell_type": "code",
   "execution_count": null,
   "metadata": {},
   "outputs": [],
   "source": []
  }
 ],
 "metadata": {
  "kernelspec": {
   "display_name": "Python 3",
   "language": "python",
   "name": "python3"
  },
  "language_info": {
   "codemirror_mode": {
    "name": "ipython",
    "version": 3
   },
   "file_extension": ".py",
   "mimetype": "text/x-python",
   "name": "python",
   "nbconvert_exporter": "python",
   "pygments_lexer": "ipython3",
   "version": "3.9.1"
  }
 },
 "nbformat": 4,
 "nbformat_minor": 4
}
