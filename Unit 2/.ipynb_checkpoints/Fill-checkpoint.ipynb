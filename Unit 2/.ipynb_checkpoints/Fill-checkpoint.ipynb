{
 "cells": [
  {
   "cell_type": "code",
   "execution_count": 8,
   "metadata": {},
   "outputs": [],
   "source": [
    "from tkinter import *\n",
    "window = Tk()\n",
    "window.minsize(300,400)\n",
    "window.maxsize(800,800)\n",
    "window.geometry('400x400')\n",
    "window.iconbitmap(r'fav.ico')\n",
    "window.title('Tkinter Fill Parameter')\n",
    "\n",
    "l1= Label(window,text='Automatic width',fg='white',bg='purple')\n",
    "l1.pack()\n",
    "\n",
    "l2 = Label(window,text='full Width',fg='white',bg='green')\n",
    "l2.pack(fill=X)\n",
    "\n",
    "l3 = Label(window,text='full side Width ',fg='white',bg='purple')\n",
    "l3.pack(side='left',fill='y')\n",
    "\n",
    "window.geometry('400x300')\n",
    "window.mainloop()\n"
   ]
  },
  {
   "cell_type": "code",
   "execution_count": 9,
   "metadata": {},
   "outputs": [],
   "source": [
    "from tkinter import *\n",
    "window = Tk()\n",
    "window.minsize(300,400)\n",
    "window.maxsize(800,800)\n",
    "window.geometry('400x400')\n",
    "window.iconbitmap(r'fav.ico')\n",
    "window.title('Tkinter Fill Parameter')\n",
    "\n",
    "l1= Label(window,text='Automatic width',fg='white',bg='purple')\n",
    "l1.pack()\n",
    "\n",
    "l2 = Label(window,text='full Width',fg='white',bg='green')\n",
    "l2.pack(fill=X)\n",
    "\n",
    "l3 = Label(window,text='full side Width ',fg='white',bg='purple')\n",
    "l3.pack(side='left',fill='y')\n",
    "\n",
    "l4 =  Label(window,text='full side Width ',fg='white',bg='purple')\n",
    "l4.pack(side='right',fill='y')\n",
    "\n",
    "window.geometry('400x300')\n",
    "window.mainloop()\n"
   ]
  },
  {
   "cell_type": "code",
   "execution_count": 16,
   "metadata": {},
   "outputs": [],
   "source": [
    "from tkinter import *\n",
    "window = Tk()\n",
    "window.minsize(300,400)\n",
    "window.maxsize(800,800)\n",
    "window.geometry('400x400')\n",
    "window.iconbitmap(r'fav.ico')\n",
    "window.title('Tkinter Fill Parameter')\n",
    "\n",
    "myframe = Frame(window,bg='blue',relief=RAISED,borderwidth=5)\n",
    "myframe.pack(fill='x',expand=True)\n",
    "\n",
    "l = Label(myframe,text='Frame')\n",
    "l.pack()\n",
    "\n",
    "window.mainloop()\n"
   ]
  },
  {
   "cell_type": "code",
   "execution_count": 20,
   "metadata": {},
   "outputs": [],
   "source": [
    "from tkinter import *\n",
    "window = Tk()\n",
    "window.minsize(300,400)\n",
    "window.maxsize(800,800)\n",
    "window.geometry('400x400')\n",
    "window.iconbitmap(r'fav.ico')\n",
    "window.title('Tkinter Fill Parameter')\n",
    "\n",
    "frame1 = Frame(window)\n",
    "frame1.pack(fill = BOTH, expand = True)\n",
    "\n",
    "b1 = Button(frame1, text = \"Click me !\")\n",
    "b1.pack(fill = BOTH, expand = True)\n",
    "\n",
    "window.mainloop()\n"
   ]
  },
  {
   "cell_type": "code",
   "execution_count": 21,
   "metadata": {},
   "outputs": [],
   "source": [
    "from tkinter import *\n",
    "window = Tk()\n",
    "window.minsize(300,400)\n",
    "window.maxsize(800,800)\n",
    "window.geometry('400x400')\n",
    "window.iconbitmap(r'fav.ico')\n",
    "window.title('Tkinter Fill Parameter')\n",
    "\n",
    "\n",
    "frame1 = Frame(window)\n",
    "frame1.pack(fill = BOTH, expand = True)\n",
    "\n",
    "b1 = Button(frame1, text = \"Click me !\")\n",
    "b1.pack(fill = BOTH, expand = True)\n",
    "\n",
    "b2 = Button(frame1, text = \"Click me too\")\n",
    "b2.pack(fill = BOTH, expand = True)\n",
    "\n",
    "\n",
    "window.mainloop()\n"
   ]
  },
  {
   "cell_type": "code",
   "execution_count": 22,
   "metadata": {},
   "outputs": [],
   "source": [
    "from tkinter import *\n",
    "window = Tk()\n",
    "window.minsize(300,400)\n",
    "window.maxsize(800,800)\n",
    "window.geometry('400x400')\n",
    "window.iconbitmap(r'fav.ico')\n",
    "window.title('Tkinter Fill Parameter')\n",
    "\n",
    "\n",
    "frame1 = Frame(window)\n",
    "frame1.pack(fill = BOTH, expand = True)\n",
    "\n",
    "b1 = Button(frame1, text = \"Click me !\")\n",
    "b1.pack(fill = BOTH, expand = True)\n",
    "\n",
    "b2 = Button(frame1, text = \"Click me too\")\n",
    "b2.pack(fill = BOTH, expand = True)\n",
    "\n",
    "b3 = Button(frame1, text = \"Click Here\")\n",
    "b3.pack(fill = BOTH, expand = True)\n",
    "\n",
    "window.mainloop()\n"
   ]
  },
  {
   "cell_type": "code",
   "execution_count": null,
   "metadata": {},
   "outputs": [],
   "source": []
  }
 ],
 "metadata": {
  "kernelspec": {
   "display_name": "Python 3",
   "language": "python",
   "name": "python3"
  },
  "language_info": {
   "codemirror_mode": {
    "name": "ipython",
    "version": 3
   },
   "file_extension": ".py",
   "mimetype": "text/x-python",
   "name": "python",
   "nbconvert_exporter": "python",
   "pygments_lexer": "ipython3",
   "version": "3.9.1"
  }
 },
 "nbformat": 4,
 "nbformat_minor": 4
}
