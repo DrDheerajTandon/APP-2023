{
 "cells": [
  {
   "cell_type": "code",
   "execution_count": null,
   "metadata": {},
   "outputs": [],
   "source": [
    "from tkinter import *\n",
    "window = Tk()\n",
    "window.minsize(300,400)\n",
    "window.maxsize(800,800)\n",
    "window.geometry('400x400')\n",
    "window.iconbitmap(r'fav.ico')\n",
    "window.title('Frame')\n",
    "\n",
    "frame1 = Frame(window)\n",
    "frame1.pack()\n",
    "label=Label(frame1,text='Frame Example')\n",
    "label.pack()\n",
    "\n",
    "window.mainloop()"
   ]
  },
  {
   "cell_type": "code",
   "execution_count": 5,
   "metadata": {},
   "outputs": [],
   "source": [
    "from tkinter import *\n",
    "window = Tk()\n",
    "window.minsize(300,400)\n",
    "window.maxsize(800,800)\n",
    "window.geometry('400x400')\n",
    "window.iconbitmap(r'fav.ico')\n",
    "window.title('Frame')\n",
    "\n",
    "frame1 = Frame(window)\n",
    "frame1.pack()\n",
    "label=Label(frame1,text='Frame Example')\n",
    "label.pack()\n",
    "\n",
    "frame2 = Frame(window)\n",
    "frame2.pack(side='bottom')\n",
    "label1=Label(frame2,text='Frame Example')\n",
    "label1.pack()\n",
    "\n",
    "window.mainloop()"
   ]
  },
  {
   "cell_type": "code",
   "execution_count": 7,
   "metadata": {},
   "outputs": [],
   "source": [
    "from tkinter import *\n",
    "window = Tk()\n",
    "window.minsize(300,400)\n",
    "window.maxsize(800,800)\n",
    "window.geometry('400x400')\n",
    "window.iconbitmap(r'fav.ico')\n",
    "window.title('Frame')\n",
    "\n",
    "frame1 = Frame(window)\n",
    "frame1.pack()\n",
    "btn1 = Button(frame1,text='Button 1',bg='yellow')\n",
    "btn1.pack()\n",
    "\n",
    "frame2 = Frame(window)\n",
    "frame2.pack(side='bottom')\n",
    "btn2 = Button(frame2,text='Button 2',bg='green')\n",
    "btn2.pack()\n",
    "\n",
    "\n",
    "window.mainloop()"
   ]
  },
  {
   "cell_type": "code",
   "execution_count": null,
   "metadata": {},
   "outputs": [],
   "source": []
  }
 ],
 "metadata": {
  "kernelspec": {
   "display_name": "Python 3",
   "language": "python",
   "name": "python3"
  },
  "language_info": {
   "codemirror_mode": {
    "name": "ipython",
    "version": 3
   },
   "file_extension": ".py",
   "mimetype": "text/x-python",
   "name": "python",
   "nbconvert_exporter": "python",
   "pygments_lexer": "ipython3",
   "version": "3.9.1"
  }
 },
 "nbformat": 4,
 "nbformat_minor": 4
}
