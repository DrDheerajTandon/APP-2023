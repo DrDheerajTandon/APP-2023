{
 "cells": [
  {
   "cell_type": "code",
   "execution_count": 4,
   "metadata": {},
   "outputs": [],
   "source": [
    "from tkinter import *\n",
    "window = Tk()\n",
    "window.title('Mouse Events')\n",
    "window.minsize(100,100)\n",
    "window.maxsize(800,800)\n",
    "window.geometry('300x200')\n",
    "window.iconbitmap(r'fav.ico')\n",
    "\n",
    "def clicker(event):\n",
    "    l1 = Label(window,text='You have Clicked Button')\n",
    "    l1.pack()\n",
    "    \n",
    "btn = Button(window,text='Click Me')\n",
    "btn.bind('<Key>',clicker)\n",
    "btn.pack()\n",
    "window.mainloop()"
   ]
  },
  {
   "cell_type": "markdown",
   "metadata": {},
   "source": [
    "# Print Specific Key"
   ]
  },
  {
   "cell_type": "code",
   "execution_count": 6,
   "metadata": {},
   "outputs": [],
   "source": [
    "from tkinter import *\n",
    "window = Tk()\n",
    "window.title('Mouse Events')\n",
    "window.minsize(100,100)\n",
    "window.maxsize(800,800)\n",
    "window.geometry('300x200')\n",
    "window.iconbitmap(r'fav.ico')\n",
    "\n",
    "def clicker(event):\n",
    "    l1 = Label(window,text='You have Clicked Button : '+event.char)\n",
    "    l1.pack()\n",
    "    \n",
    "btn = Button(window,text='Click Me')\n",
    "btn.bind('<Key>',clicker)\n",
    "btn.pack()\n",
    "window.mainloop()"
   ]
  },
  {
   "cell_type": "markdown",
   "metadata": {},
   "source": [
    "# Print Key Symbol"
   ]
  },
  {
   "cell_type": "code",
   "execution_count": 8,
   "metadata": {},
   "outputs": [],
   "source": [
    "from tkinter import *\n",
    "window = Tk()\n",
    "window.title('Mouse Events')\n",
    "window.minsize(100,100)\n",
    "window.maxsize(800,800)\n",
    "window.geometry('300x200')\n",
    "window.iconbitmap(r'fav.ico')\n",
    "\n",
    "def clicker(event):\n",
    "    l1 = Label(window,text='You have Clicked Button : '+event.keysym)\n",
    "    l1.pack()\n",
    "    \n",
    "btn = Button(window,text='Click Me')\n",
    "btn.bind('<Key>',clicker)\n",
    "btn.pack()\n",
    "window.mainloop()"
   ]
  },
  {
   "cell_type": "code",
   "execution_count": null,
   "metadata": {},
   "outputs": [],
   "source": []
  }
 ],
 "metadata": {
  "kernelspec": {
   "display_name": "Python 3",
   "language": "python",
   "name": "python3"
  },
  "language_info": {
   "codemirror_mode": {
    "name": "ipython",
    "version": 3
   },
   "file_extension": ".py",
   "mimetype": "text/x-python",
   "name": "python",
   "nbconvert_exporter": "python",
   "pygments_lexer": "ipython3",
   "version": "3.9.1"
  }
 },
 "nbformat": 4,
 "nbformat_minor": 4
}
