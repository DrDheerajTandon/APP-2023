{
 "cells": [
  {
   "cell_type": "code",
   "execution_count": 1,
   "metadata": {},
   "outputs": [],
   "source": [
    "from tkinter import *\n",
    "window = Tk()\n",
    "window.title('List Box')\n",
    "window.geometry('400x500')\n",
    "window.minsize(300, 300)\n",
    "window.maxsize(600, 600)\n",
    "window.iconbitmap(\n",
    "    r'fav.ico')\n",
    "lb = Listbox(window)\n",
    "lb.pack()\n",
    "window.mainloop()"
   ]
  },
  {
   "cell_type": "markdown",
   "metadata": {},
   "source": [
    "# Insert Item "
   ]
  },
  {
   "cell_type": "code",
   "execution_count": 2,
   "metadata": {},
   "outputs": [],
   "source": [
    "from tkinter import *\n",
    "window = Tk()\n",
    "window.title('List Box')\n",
    "window.geometry('400x500')\n",
    "window.minsize(300, 300)\n",
    "window.maxsize(600, 600)\n",
    "window.iconbitmap(\n",
    "    r'fav.ico')\n",
    "lb = Listbox(window)\n",
    "lb.pack()\n",
    "lb.insert(END, 'This is first Item')\n",
    "lb.insert(END, 'This is Second Item')\n",
    "window.mainloop()"
   ]
  },
  {
   "cell_type": "markdown",
   "metadata": {},
   "source": [
    "# Insert Item using Position"
   ]
  },
  {
   "cell_type": "code",
   "execution_count": null,
   "metadata": {},
   "outputs": [],
   "source": [
    "from tkinter import *\n",
    "window = Tk()\n",
    "window.title('List Box')\n",
    "window.geometry('400x500')\n",
    "window.minsize(300, 300)\n",
    "window.maxsize(600, 600)\n",
    "window.iconbitmap(\n",
    "      r'fav.ico')\n",
    "lb = Listbox(window)\n",
    "lb.pack()\n",
    "lb.insert(END, 'This is first Item')\n",
    "lb.insert(0, 'This is Second Item')\n",
    "window.mainloop()"
   ]
  },
  {
   "cell_type": "markdown",
   "metadata": {},
   "source": [
    "# Add list of items to list box"
   ]
  },
  {
   "cell_type": "code",
   "execution_count": 4,
   "metadata": {},
   "outputs": [],
   "source": [
    "from tkinter import *\n",
    "window = Tk()\n",
    "window.title('List Box')\n",
    "window.geometry('400x500')\n",
    "window.minsize(300, 300)\n",
    "window.maxsize(600, 600)\n",
    "window.iconbitmap(  \n",
    "    r'fav.ico')\n",
    "lb = Listbox(window)\n",
    "lb.pack()\n",
    "lb.insert(END, 'This is first Item')\n",
    "lb.insert(0, 'This is Second Item')\n",
    "\n",
    "list1 = ['one','two','three']\n",
    "for i in list1:\n",
    "    lb.insert(END,i)\n",
    "\n",
    "window.mainloop()"
   ]
  },
  {
   "cell_type": "markdown",
   "metadata": {},
   "source": [
    "# Delete items from list box"
   ]
  },
  {
   "cell_type": "code",
   "execution_count": 5,
   "metadata": {},
   "outputs": [],
   "source": [
    "from tkinter import *\n",
    "window = Tk()\n",
    "window.title('List Box')\n",
    "window.geometry('400x500')\n",
    "window.minsize(300, 300)\n",
    "window.maxsize(600, 600)\n",
    "window.iconbitmap(  \n",
    "    r'fav.ico')\n",
    "lb = Listbox(window)\n",
    "lb.pack()\n",
    "lb.insert(END, 'This is first Item')\n",
    "lb.insert(0, 'This is Second Item')\n",
    "\n",
    "list1 = ['one','two','three']\n",
    "for i in list1:\n",
    "    lb.insert(END,i)\n",
    "    \n",
    "def deleteitems():\n",
    "    lb.delete(ANCHOR)\n",
    "    \n",
    "btn = Button(window,text='Delete Items',command=deleteitems)\n",
    "btn.pack(pady=10)\n",
    "\n",
    "window.mainloop()"
   ]
  },
  {
   "cell_type": "code",
   "execution_count": null,
   "metadata": {},
   "outputs": [],
   "source": []
  }
 ],
 "metadata": {
  "kernelspec": {
   "display_name": "Python 3",
   "language": "python",
   "name": "python3"
  },
  "language_info": {
   "codemirror_mode": {
    "name": "ipython",
    "version": 3
   },
   "file_extension": ".py",
   "mimetype": "text/x-python",
   "name": "python",
   "nbconvert_exporter": "python",
   "pygments_lexer": "ipython3",
   "version": "3.9.1"
  }
 },
 "nbformat": 4,
 "nbformat_minor": 4
}
