{
 "cells": [
  {
   "cell_type": "code",
   "execution_count": 1,
   "metadata": {},
   "outputs": [],
   "source": [
    "import mysql.connector\n",
    "mydb = mysql.connector.connect(host='localhost',user='root',passwd='')"
   ]
  },
  {
   "cell_type": "code",
   "execution_count": 2,
   "metadata": {},
   "outputs": [
    {
     "name": "stdout",
     "output_type": "stream",
     "text": [
      "Connected \n"
     ]
    }
   ],
   "source": [
    "if mydb:\n",
    "    print('Connected ')"
   ]
  },
  {
   "cell_type": "code",
   "execution_count": 3,
   "metadata": {},
   "outputs": [
    {
     "name": "stdout",
     "output_type": "stream",
     "text": [
      "('alumni3',)\n",
      "('alumni_drupal',)\n",
      "('alumni_joomla',)\n",
      "('appclass',)\n",
      "('arcus',)\n",
      "('ijiccn',)\n",
      "('information_schema',)\n",
      "('joomla4',)\n",
      "('myapp',)\n",
      "('mysql',)\n",
      "('ngo',)\n",
      "('october',)\n",
      "('performance_schema',)\n",
      "('rgpg',)\n",
      "('srmdata',)\n",
      "('test',)\n"
     ]
    }
   ],
   "source": [
    "import mysql.connector\n",
    "mydb = mysql.connector.connect(host='localhost',user='root',passwd='')\n",
    "mycursor = mydb.cursor()\n",
    "mycursor.execute('Show Databases')\n",
    "\n",
    "for i in mycursor:\n",
    "\tprint(i)"
   ]
  },
  {
   "cell_type": "code",
   "execution_count": 4,
   "metadata": {},
   "outputs": [],
   "source": [
    "import mysql.connector\n",
    "mydb = mysql.connector.connect(host='localhost',user='root',passwd='',database='appclass')\n",
    "mycursor = mydb.cursor()\n",
    "mycursor.execute('select * from student')\n",
    "for i in mycursor:\n",
    "\tprint(i)"
   ]
  },
  {
   "cell_type": "code",
   "execution_count": null,
   "metadata": {},
   "outputs": [],
   "source": []
  }
 ],
 "metadata": {
  "kernelspec": {
   "display_name": "Python 3",
   "language": "python",
   "name": "python3"
  },
  "language_info": {
   "codemirror_mode": {
    "name": "ipython",
    "version": 3
   },
   "file_extension": ".py",
   "mimetype": "text/x-python",
   "name": "python",
   "nbconvert_exporter": "python",
   "pygments_lexer": "ipython3",
   "version": "3.9.1"
  }
 },
 "nbformat": 4,
 "nbformat_minor": 4
}
