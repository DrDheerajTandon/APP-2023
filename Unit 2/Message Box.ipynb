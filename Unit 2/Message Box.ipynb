{
 "cells": [
  {
   "cell_type": "code",
   "execution_count": 1,
   "metadata": {},
   "outputs": [],
   "source": [
    "from tkinter import *\n",
    "from tkinter import messagebox\n",
    "window = Tk()\n",
    "window.title('Scrolled Text')\n",
    "window.minsize(100,100)\n",
    "window.maxsize(800,800)\n",
    "window.geometry('300x200')\n",
    "window.iconbitmap(r'fav.ico')\n",
    "messagebox.showinfo('Message Title','Message Info')\n",
    "window.mainloop()"
   ]
  },
  {
   "cell_type": "markdown",
   "metadata": {},
   "source": [
    "# Message box with a button"
   ]
  },
  {
   "cell_type": "code",
   "execution_count": 2,
   "metadata": {},
   "outputs": [],
   "source": [
    "from tkinter import *\n",
    "from tkinter import messagebox\n",
    "window = Tk()\n",
    "window.title('Scrolled Text')\n",
    "window.minsize(100,100)\n",
    "window.maxsize(800,800)\n",
    "window.geometry('300x200')\n",
    "window.iconbitmap(r'fav.ico')\n",
    "def clicker():\n",
    "    messagebox.showinfo('Message Title','Message Info')\n",
    "\n",
    "btn = Button(window,text='Click Me',command=clicker)\n",
    "btn.pack()\n",
    "window.mainloop()"
   ]
  },
  {
   "cell_type": "code",
   "execution_count": null,
   "metadata": {},
   "outputs": [],
   "source": []
  }
 ],
 "metadata": {
  "kernelspec": {
   "display_name": "Python 3",
   "language": "python",
   "name": "python3"
  },
  "language_info": {
   "codemirror_mode": {
    "name": "ipython",
    "version": 3
   },
   "file_extension": ".py",
   "mimetype": "text/x-python",
   "name": "python",
   "nbconvert_exporter": "python",
   "pygments_lexer": "ipython3",
   "version": "3.9.1"
  }
 },
 "nbformat": 4,
 "nbformat_minor": 4
}
